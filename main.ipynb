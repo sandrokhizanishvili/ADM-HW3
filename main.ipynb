{
 "cells": [
  {
   "cell_type": "code",
   "execution_count": 31,
   "metadata": {},
   "outputs": [],
   "source": [
    "import crawler as cr\n",
    "import extract_data as ed\n",
    "import conj_search_engine as cse\n",
    "import rank_search_engine as rse\n",
    "import visualization as vs\n",
    "\n",
    "import pandas as pd\n",
    "from bs4 import BeautifulSoup\n",
    "import requests\n",
    "\n",
    "from sklearn.feature_extraction.text import TfidfVectorizer\n",
    "from sklearn.metrics.pairwise import cosine_similarity\n",
    "\n",
    "from tqdm.notebook import tqdm\n",
    "\n",
    "import folium\n",
    "import webbrowser\n",
    "import geopandas as gpd\n",
    "\n",
    "import time\n",
    "\n",
    "import heapq\n",
    "\n",
    "import os\n",
    "\n",
    "import ipywidgets as widgets\n",
    "from IPython.display import display\n",
    "from collections import defaultdict\n",
    "from nltk.corpus import stopwords\n",
    "import re"
   ]
  },
  {
   "cell_type": "markdown",
   "metadata": {},
   "source": [
    "# Data Collection\n",
    "\n",
    "- We planned to first collect all webpage URLs from the Michelin website, then gather the individual URLs for each restaurant. To speed up the process, we fetched all HTML content asynchronously and saved them in their respective page folders. Finally, we parsed all HTML files to extract the relevant information"
   ]
  },
  {
   "cell_type": "code",
   "execution_count": 2,
   "metadata": {},
   "outputs": [],
   "source": [
    "# get connection\n",
    "cnt = requests.get(\"https://guide.michelin.com/en/it/restaurants\")"
   ]
  },
  {
   "cell_type": "code",
   "execution_count": 3,
   "metadata": {},
   "outputs": [],
   "source": [
    "# get content\n",
    "soup = BeautifulSoup(cnt.content, features=\"lxml\")"
   ]
  },
  {
   "cell_type": "code",
   "execution_count": 4,
   "metadata": {},
   "outputs": [],
   "source": [
    "# save html\n",
    "f = open(\"source.html\", \"w\")\n",
    "f.write(soup.prettify())\n",
    "f.close()"
   ]
  },
  {
   "cell_type": "code",
   "execution_count": 5,
   "metadata": {},
   "outputs": [],
   "source": [
    "# find all ul tags, where class = 'pagination'\n",
    "ul = soup.find_all('ul', {'class': 'pagination'})[0]"
   ]
  },
  {
   "cell_type": "code",
   "execution_count": 6,
   "metadata": {},
   "outputs": [],
   "source": [
    "page_urls = []\n",
    "for element in ul.find_all('a')[:-1]:\n",
    "    page_urls.append('https://guide.michelin.com' + element['href'])"
   ]
  },
  {
   "cell_type": "code",
   "execution_count": 7,
   "metadata": {},
   "outputs": [
    {
     "data": {
      "application/vnd.jupyter.widget-view+json": {
       "model_id": "653e0d85e350474e9c6139217c5801ed",
       "version_major": 2,
       "version_minor": 0
      },
      "text/plain": [
       "HBox(children=(HTML(value=''), FloatProgress(value=0.0, max=10.0), HTML(value='')))"
      ]
     },
     "metadata": {},
     "output_type": "display_data"
    },
    {
     "name": "stdout",
     "output_type": "stream",
     "text": [
      "\n"
     ]
    }
   ],
   "source": [
    "# Add missing pages, will cause URL duplications!!! \n",
    "for url in tqdm(page_urls[9:]):\n",
    "\n",
    "    # get connection\n",
    "    cnt = requests.get(url)\n",
    "\n",
    "    # get content\n",
    "    soup = BeautifulSoup(cnt.content, features=\"lxml\")  \n",
    "\n",
    "    # find all ul tags, where class = 'pagination'\n",
    "    ul = soup.find_all('ul', {'class': 'pagination'})[0]\n",
    "\n",
    "    for element in ul.find_all('a'):\n",
    "        page_urls.append('https://guide.michelin.com' + element['href'])\n",
    "\n",
    "    time.sleep(1)"
   ]
  },
  {
   "cell_type": "code",
   "execution_count": 8,
   "metadata": {},
   "outputs": [],
   "source": [
    "# remove duplicated elements\n",
    "page_urls = list(set(page_urls))"
   ]
  },
  {
   "cell_type": "code",
   "execution_count": 9,
   "metadata": {},
   "outputs": [],
   "source": [
    "# sort URLs\n",
    "page_urls = sorted(page_urls, key=lambda url: int(url.split('/')[-1]) if url.split('/')[-1].isdigit() else 1)"
   ]
  },
  {
   "cell_type": "code",
   "execution_count": 11,
   "metadata": {},
   "outputs": [
    {
     "data": {
      "application/vnd.jupyter.widget-view+json": {
       "model_id": "0a03ca931fc84112a8b982ecf3e09d46",
       "version_major": 2,
       "version_minor": 0
      },
      "text/plain": [
       "HBox(children=(HTML(value=''), FloatProgress(value=0.0), HTML(value='')))"
      ]
     },
     "metadata": {},
     "output_type": "display_data"
    },
    {
     "name": "stdout",
     "output_type": "stream",
     "text": [
      "# of restaurants on page 1 is 20\n",
      "# of restaurants on page 2 is 20\n",
      "# of restaurants on page 3 is 20\n",
      "# of restaurants on page 4 is 20\n",
      "# of restaurants on page 5 is 20\n",
      "# of restaurants on page 6 is 20\n",
      "# of restaurants on page 7 is 20\n",
      "# of restaurants on page 8 is 20\n",
      "# of restaurants on page 9 is 20\n",
      "# of restaurants on page 10 is 20\n",
      "# of restaurants on page 11 is 20\n",
      "# of restaurants on page 12 is 20\n",
      "# of restaurants on page 13 is 20\n",
      "# of restaurants on page 14 is 20\n",
      "# of restaurants on page 15 is 20\n",
      "# of restaurants on page 16 is 20\n",
      "# of restaurants on page 17 is 20\n",
      "# of restaurants on page 18 is 20\n",
      "# of restaurants on page 19 is 20\n",
      "# of restaurants on page 20 is 20\n",
      "# of restaurants on page 21 is 20\n",
      "# of restaurants on page 22 is 20\n",
      "# of restaurants on page 23 is 20\n",
      "# of restaurants on page 24 is 20\n",
      "# of restaurants on page 25 is 20\n",
      "# of restaurants on page 26 is 20\n",
      "# of restaurants on page 27 is 20\n",
      "# of restaurants on page 28 is 20\n",
      "# of restaurants on page 29 is 20\n",
      "# of restaurants on page 30 is 20\n",
      "# of restaurants on page 31 is 20\n",
      "# of restaurants on page 32 is 20\n",
      "# of restaurants on page 33 is 20\n",
      "# of restaurants on page 34 is 20\n",
      "# of restaurants on page 35 is 20\n",
      "# of restaurants on page 36 is 20\n",
      "# of restaurants on page 37 is 20\n",
      "# of restaurants on page 38 is 20\n",
      "# of restaurants on page 39 is 20\n",
      "# of restaurants on page 40 is 20\n",
      "# of restaurants on page 41 is 20\n",
      "# of restaurants on page 42 is 20\n",
      "# of restaurants on page 43 is 20\n",
      "# of restaurants on page 44 is 20\n",
      "# of restaurants on page 45 is 20\n",
      "# of restaurants on page 46 is 20\n",
      "# of restaurants on page 47 is 20\n",
      "# of restaurants on page 48 is 20\n",
      "# of restaurants on page 49 is 20\n",
      "# of restaurants on page 50 is 20\n",
      "# of restaurants on page 51 is 20\n",
      "# of restaurants on page 52 is 20\n",
      "# of restaurants on page 53 is 20\n",
      "# of restaurants on page 54 is 20\n",
      "# of restaurants on page 55 is 20\n",
      "# of restaurants on page 56 is 20\n",
      "# of restaurants on page 57 is 20\n",
      "# of restaurants on page 58 is 20\n",
      "# of restaurants on page 59 is 20\n",
      "# of restaurants on page 60 is 20\n",
      "# of restaurants on page 61 is 20\n",
      "# of restaurants on page 62 is 20\n",
      "# of restaurants on page 63 is 20\n",
      "# of restaurants on page 64 is 20\n",
      "# of restaurants on page 65 is 20\n",
      "# of restaurants on page 66 is 20\n",
      "# of restaurants on page 67 is 20\n",
      "# of restaurants on page 68 is 20\n",
      "# of restaurants on page 69 is 20\n",
      "# of restaurants on page 70 is 20\n",
      "# of restaurants on page 71 is 20\n",
      "# of restaurants on page 72 is 20\n",
      "# of restaurants on page 73 is 20\n",
      "# of restaurants on page 74 is 20\n",
      "# of restaurants on page 75 is 20\n",
      "# of restaurants on page 76 is 20\n",
      "# of restaurants on page 77 is 20\n",
      "# of restaurants on page 78 is 20\n",
      "# of restaurants on page 79 is 20\n",
      "# of restaurants on page 80 is 20\n",
      "# of restaurants on page 81 is 20\n",
      "# of restaurants on page 82 is 20\n",
      "# of restaurants on page 83 is 20\n",
      "# of restaurants on page 84 is 20\n",
      "# of restaurants on page 85 is 20\n",
      "# of restaurants on page 86 is 20\n",
      "# of restaurants on page 87 is 20\n",
      "# of restaurants on page 88 is 20\n",
      "# of restaurants on page 89 is 20\n",
      "# of restaurants on page 90 is 20\n",
      "# of restaurants on page 91 is 20\n",
      "# of restaurants on page 92 is 20\n",
      "# of restaurants on page 93 is 20\n",
      "# of restaurants on page 94 is 20\n",
      "# of restaurants on page 95 is 20\n",
      "# of restaurants on page 96 is 20\n",
      "# of restaurants on page 97 is 20\n",
      "# of restaurants on page 98 is 20\n",
      "# of restaurants on page 99 is 20\n",
      "# of restaurants on page 100 is 1\n",
      "\n"
     ]
    }
   ],
   "source": [
    "# Get michelin restuarant urls\n",
    "restaurant_urls = cr.michelin_restaurant_urls(page_urls)"
   ]
  },
  {
   "cell_type": "code",
   "execution_count": 13,
   "metadata": {},
   "outputs": [],
   "source": [
    "# Fetch and save the HTML content of Michelin restaurant pages asynchronously\n",
    "cr.get_michelin_htmls(restaurant_urls)"
   ]
  },
  {
   "cell_type": "markdown",
   "metadata": {},
   "source": [
    "## Data Parsing\n",
    "\n",
    "- For data parsing, we thoroughly examined the HTML files of several restaurants on the Michelin website and developed an HTML-based workflow to extract the relevant information."
   ]
  },
  {
   "cell_type": "code",
   "execution_count": 2,
   "metadata": {},
   "outputs": [
    {
     "name": "stderr",
     "output_type": "stream",
     "text": [
      "Parsing folders:   1%|          | 1/100 [00:02<03:38,  2.20s/it]"
     ]
    },
    {
     "name": "stdout",
     "output_type": "stream",
     "text": [
      "website is missing in restaurant_22.html\n"
     ]
    },
    {
     "name": "stderr",
     "output_type": "stream",
     "text": [
      "Parsing folders:   3%|▎         | 3/100 [00:06<03:41,  2.28s/it]"
     ]
    },
    {
     "name": "stdout",
     "output_type": "stream",
     "text": [
      "website is missing in restaurant_73.html\n"
     ]
    },
    {
     "name": "stderr",
     "output_type": "stream",
     "text": [
      "Parsing folders:   4%|▍         | 4/100 [00:09<03:35,  2.24s/it]"
     ]
    },
    {
     "name": "stdout",
     "output_type": "stream",
     "text": [
      "website is missing in restaurant_80.html\n",
      "website is missing in restaurant_87.html\n"
     ]
    },
    {
     "name": "stderr",
     "output_type": "stream",
     "text": [
      "Parsing folders:   6%|▌         | 6/100 [00:13<03:24,  2.18s/it]"
     ]
    },
    {
     "name": "stdout",
     "output_type": "stream",
     "text": [
      "website is missing in restaurant_125.html\n",
      "website is missing in restaurant_129.html\n"
     ]
    },
    {
     "name": "stderr",
     "output_type": "stream",
     "text": [
      "Parsing folders:   7%|▋         | 7/100 [00:15<03:26,  2.22s/it]"
     ]
    },
    {
     "name": "stdout",
     "output_type": "stream",
     "text": [
      "website is missing in restaurant_144.html\n"
     ]
    },
    {
     "name": "stderr",
     "output_type": "stream",
     "text": [
      "Parsing folders:   8%|▊         | 8/100 [00:17<03:21,  2.19s/it]"
     ]
    },
    {
     "name": "stdout",
     "output_type": "stream",
     "text": [
      "website is missing in restaurant_159.html\n",
      "website is missing in restaurant_169.html\n",
      "website is missing in restaurant_178.html\n"
     ]
    },
    {
     "name": "stderr",
     "output_type": "stream",
     "text": [
      "Parsing folders:   9%|▉         | 9/100 [00:19<03:21,  2.21s/it]"
     ]
    },
    {
     "name": "stdout",
     "output_type": "stream",
     "text": [
      "website is missing in restaurant_189.html\n",
      "website is missing in restaurant_192.html\n"
     ]
    },
    {
     "name": "stderr",
     "output_type": "stream",
     "text": [
      "Parsing folders:  10%|█         | 10/100 [00:22<03:39,  2.43s/it]"
     ]
    },
    {
     "name": "stdout",
     "output_type": "stream",
     "text": [
      "website is missing in restaurant_215.html\n"
     ]
    },
    {
     "name": "stderr",
     "output_type": "stream",
     "text": [
      "Parsing folders:  11%|█         | 11/100 [00:25<03:42,  2.50s/it]"
     ]
    },
    {
     "name": "stdout",
     "output_type": "stream",
     "text": [
      "website is missing in restaurant_228.html\n"
     ]
    },
    {
     "name": "stderr",
     "output_type": "stream",
     "text": [
      "Parsing folders:  13%|█▎        | 13/100 [00:30<03:40,  2.53s/it]"
     ]
    },
    {
     "name": "stdout",
     "output_type": "stream",
     "text": [
      "website is missing in restaurant_261.html\n",
      "website is missing in restaurant_277.html\n"
     ]
    },
    {
     "name": "stderr",
     "output_type": "stream",
     "text": [
      "Parsing folders:  14%|█▍        | 14/100 [00:33<03:31,  2.46s/it]"
     ]
    },
    {
     "name": "stdout",
     "output_type": "stream",
     "text": [
      "website is missing in restaurant_281.html\n",
      "website is missing in restaurant_287.html\n"
     ]
    },
    {
     "name": "stderr",
     "output_type": "stream",
     "text": [
      "Parsing folders:  15%|█▌        | 15/100 [00:35<03:29,  2.47s/it]"
     ]
    },
    {
     "name": "stdout",
     "output_type": "stream",
     "text": [
      "website is missing in restaurant_304.html\n",
      "website is missing in restaurant_309.html\n"
     ]
    },
    {
     "name": "stderr",
     "output_type": "stream",
     "text": [
      "Parsing folders:  16%|█▌        | 16/100 [00:38<03:31,  2.52s/it]"
     ]
    },
    {
     "name": "stdout",
     "output_type": "stream",
     "text": [
      "website is missing in restaurant_319.html\n",
      "website is missing in restaurant_323.html\n",
      "website is missing in restaurant_325.html\n"
     ]
    },
    {
     "name": "stderr",
     "output_type": "stream",
     "text": [
      "Parsing folders:  17%|█▋        | 17/100 [00:40<03:28,  2.51s/it]"
     ]
    },
    {
     "name": "stdout",
     "output_type": "stream",
     "text": [
      "website is missing in restaurant_353.html\n"
     ]
    },
    {
     "name": "stderr",
     "output_type": "stream",
     "text": [
      "Parsing folders:  19%|█▉        | 19/100 [00:46<03:30,  2.59s/it]"
     ]
    },
    {
     "name": "stdout",
     "output_type": "stream",
     "text": [
      "website is missing in restaurant_393.html\n"
     ]
    },
    {
     "name": "stderr",
     "output_type": "stream",
     "text": [
      "Parsing folders:  20%|██        | 20/100 [00:48<03:24,  2.55s/it]"
     ]
    },
    {
     "name": "stdout",
     "output_type": "stream",
     "text": [
      "website is missing in restaurant_403.html\n",
      "website is missing in restaurant_406.html\n"
     ]
    },
    {
     "name": "stderr",
     "output_type": "stream",
     "text": [
      "Parsing folders:  21%|██        | 21/100 [00:51<03:27,  2.63s/it]"
     ]
    },
    {
     "name": "stdout",
     "output_type": "stream",
     "text": [
      "website is missing in restaurant_421.html\n"
     ]
    },
    {
     "name": "stderr",
     "output_type": "stream",
     "text": [
      "Parsing folders:  22%|██▏       | 22/100 [00:53<03:24,  2.62s/it]"
     ]
    },
    {
     "name": "stdout",
     "output_type": "stream",
     "text": [
      "website is missing in restaurant_440.html\n"
     ]
    },
    {
     "name": "stderr",
     "output_type": "stream",
     "text": [
      "Parsing folders:  23%|██▎       | 23/100 [00:56<03:27,  2.69s/it]"
     ]
    },
    {
     "name": "stdout",
     "output_type": "stream",
     "text": [
      "website is missing in restaurant_470.html\n",
      "website is missing in restaurant_477.html\n"
     ]
    },
    {
     "name": "stderr",
     "output_type": "stream",
     "text": [
      "Parsing folders:  24%|██▍       | 24/100 [00:59<03:19,  2.63s/it]"
     ]
    },
    {
     "name": "stdout",
     "output_type": "stream",
     "text": [
      "website is missing in restaurant_487.html\n"
     ]
    },
    {
     "name": "stderr",
     "output_type": "stream",
     "text": [
      "Parsing folders:  27%|██▋       | 27/100 [01:07<03:21,  2.76s/it]"
     ]
    },
    {
     "name": "stdout",
     "output_type": "stream",
     "text": [
      "website is missing in restaurant_551.html\n",
      "website is missing in restaurant_556.html\n"
     ]
    },
    {
     "name": "stderr",
     "output_type": "stream",
     "text": [
      "Parsing folders:  28%|██▊       | 28/100 [01:10<03:19,  2.77s/it]"
     ]
    },
    {
     "name": "stdout",
     "output_type": "stream",
     "text": [
      "website is missing in restaurant_565.html\n"
     ]
    },
    {
     "name": "stderr",
     "output_type": "stream",
     "text": [
      "Parsing folders:  29%|██▉       | 29/100 [01:13<03:10,  2.69s/it]"
     ]
    },
    {
     "name": "stdout",
     "output_type": "stream",
     "text": [
      "website is missing in restaurant_586.html\n"
     ]
    },
    {
     "name": "stderr",
     "output_type": "stream",
     "text": [
      "Parsing folders:  30%|███       | 30/100 [01:16<03:14,  2.78s/it]"
     ]
    },
    {
     "name": "stdout",
     "output_type": "stream",
     "text": [
      "website is missing in restaurant_602.html\n",
      "website is missing in restaurant_607.html\n",
      "website is missing in restaurant_618.html\n"
     ]
    },
    {
     "name": "stderr",
     "output_type": "stream",
     "text": [
      "Parsing folders:  31%|███       | 31/100 [01:18<03:09,  2.75s/it]"
     ]
    },
    {
     "name": "stdout",
     "output_type": "stream",
     "text": [
      "website is missing in restaurant_628.html\n",
      "website is missing in restaurant_631.html\n"
     ]
    },
    {
     "name": "stderr",
     "output_type": "stream",
     "text": [
      "Parsing folders:  33%|███▎      | 33/100 [01:24<03:05,  2.78s/it]"
     ]
    },
    {
     "name": "stdout",
     "output_type": "stream",
     "text": [
      "website is missing in restaurant_661.html\n",
      "website is missing in restaurant_675.html\n"
     ]
    },
    {
     "name": "stderr",
     "output_type": "stream",
     "text": [
      "Parsing folders:  34%|███▍      | 34/100 [01:27<03:12,  2.92s/it]"
     ]
    },
    {
     "name": "stdout",
     "output_type": "stream",
     "text": [
      "website is missing in restaurant_681.html\n",
      "website is missing in restaurant_688.html\n",
      "website is missing in restaurant_693.html\n",
      "website is missing in restaurant_694.html\n"
     ]
    },
    {
     "name": "stderr",
     "output_type": "stream",
     "text": [
      "Parsing folders:  35%|███▌      | 35/100 [01:30<03:14,  3.00s/it]"
     ]
    },
    {
     "name": "stdout",
     "output_type": "stream",
     "text": [
      "website is missing in restaurant_717.html\n"
     ]
    },
    {
     "name": "stderr",
     "output_type": "stream",
     "text": [
      "Parsing folders:  36%|███▌      | 36/100 [01:33<03:10,  2.97s/it]"
     ]
    },
    {
     "name": "stdout",
     "output_type": "stream",
     "text": [
      "website is missing in restaurant_726.html\n",
      "website is missing in restaurant_727.html\n",
      "website is missing in restaurant_729.html\n",
      "website is missing in restaurant_738.html\n"
     ]
    },
    {
     "name": "stderr",
     "output_type": "stream",
     "text": [
      "Parsing folders:  39%|███▉      | 39/100 [01:41<02:49,  2.79s/it]"
     ]
    },
    {
     "name": "stdout",
     "output_type": "stream",
     "text": [
      "website is missing in restaurant_789.html\n",
      "website is missing in restaurant_790.html\n",
      "website is missing in restaurant_793.html\n"
     ]
    },
    {
     "name": "stderr",
     "output_type": "stream",
     "text": [
      "Parsing folders:  40%|████      | 40/100 [01:44<02:40,  2.67s/it]"
     ]
    },
    {
     "name": "stdout",
     "output_type": "stream",
     "text": [
      "website is missing in restaurant_801.html\n"
     ]
    },
    {
     "name": "stderr",
     "output_type": "stream",
     "text": [
      "Parsing folders:  41%|████      | 41/100 [01:46<02:33,  2.61s/it]"
     ]
    },
    {
     "name": "stdout",
     "output_type": "stream",
     "text": [
      "website is missing in restaurant_822.html\n"
     ]
    },
    {
     "name": "stderr",
     "output_type": "stream",
     "text": [
      "Parsing folders:  42%|████▏     | 42/100 [01:49<02:34,  2.66s/it]"
     ]
    },
    {
     "name": "stdout",
     "output_type": "stream",
     "text": [
      "website is missing in restaurant_856.html\n"
     ]
    },
    {
     "name": "stderr",
     "output_type": "stream",
     "text": [
      "Parsing folders:  44%|████▍     | 44/100 [01:54<02:26,  2.62s/it]"
     ]
    },
    {
     "name": "stdout",
     "output_type": "stream",
     "text": [
      "website is missing in restaurant_884.html\n"
     ]
    },
    {
     "name": "stderr",
     "output_type": "stream",
     "text": [
      "Parsing folders:  45%|████▌     | 45/100 [01:57<02:25,  2.65s/it]"
     ]
    },
    {
     "name": "stdout",
     "output_type": "stream",
     "text": [
      "website is missing in restaurant_912.html\n"
     ]
    },
    {
     "name": "stderr",
     "output_type": "stream",
     "text": [
      "Parsing folders:  46%|████▌     | 46/100 [02:00<02:32,  2.83s/it]"
     ]
    },
    {
     "name": "stdout",
     "output_type": "stream",
     "text": [
      "website is missing in restaurant_931.html\n"
     ]
    },
    {
     "name": "stderr",
     "output_type": "stream",
     "text": [
      "Parsing folders:  47%|████▋     | 47/100 [02:03<02:30,  2.83s/it]"
     ]
    },
    {
     "name": "stdout",
     "output_type": "stream",
     "text": [
      "website is missing in restaurant_949.html\n",
      "website is missing in restaurant_956.html\n"
     ]
    },
    {
     "name": "stderr",
     "output_type": "stream",
     "text": [
      "Parsing folders:  48%|████▊     | 48/100 [02:06<02:39,  3.07s/it]"
     ]
    },
    {
     "name": "stdout",
     "output_type": "stream",
     "text": [
      "website is missing in restaurant_961.html\n",
      "website is missing in restaurant_963.html\n"
     ]
    },
    {
     "name": "stderr",
     "output_type": "stream",
     "text": [
      "Parsing folders:  49%|████▉     | 49/100 [02:10<02:44,  3.23s/it]"
     ]
    },
    {
     "name": "stdout",
     "output_type": "stream",
     "text": [
      "website is missing in restaurant_990.html\n",
      "website is missing in restaurant_998.html\n"
     ]
    },
    {
     "name": "stderr",
     "output_type": "stream",
     "text": [
      "Parsing folders:  53%|█████▎    | 53/100 [02:22<02:21,  3.02s/it]"
     ]
    },
    {
     "name": "stdout",
     "output_type": "stream",
     "text": [
      "website is missing in restaurant_1068.html\n"
     ]
    },
    {
     "name": "stderr",
     "output_type": "stream",
     "text": [
      "Parsing folders:  59%|█████▉    | 59/100 [02:39<02:01,  2.97s/it]"
     ]
    },
    {
     "name": "stdout",
     "output_type": "stream",
     "text": [
      "website is missing in restaurant_1195.html\n"
     ]
    },
    {
     "name": "stderr",
     "output_type": "stream",
     "text": [
      "Parsing folders:  60%|██████    | 60/100 [02:42<01:56,  2.92s/it]"
     ]
    },
    {
     "name": "stdout",
     "output_type": "stream",
     "text": [
      "website is missing in restaurant_1209.html\n"
     ]
    },
    {
     "name": "stderr",
     "output_type": "stream",
     "text": [
      "Parsing folders:  61%|██████    | 61/100 [02:47<02:22,  3.65s/it]"
     ]
    },
    {
     "name": "stdout",
     "output_type": "stream",
     "text": [
      "website is missing in restaurant_1227.html\n",
      "website is missing in restaurant_1229.html\n"
     ]
    },
    {
     "name": "stderr",
     "output_type": "stream",
     "text": [
      "Parsing folders:  63%|██████▎   | 63/100 [02:52<01:54,  3.08s/it]"
     ]
    },
    {
     "name": "stdout",
     "output_type": "stream",
     "text": [
      "website is missing in restaurant_1263.html\n",
      "website is missing in restaurant_1272.html\n"
     ]
    },
    {
     "name": "stderr",
     "output_type": "stream",
     "text": [
      "Parsing folders:  64%|██████▍   | 64/100 [02:55<01:42,  2.85s/it]"
     ]
    },
    {
     "name": "stdout",
     "output_type": "stream",
     "text": [
      "website is missing in restaurant_1284.html\n",
      "website is missing in restaurant_1289.html\n"
     ]
    },
    {
     "name": "stderr",
     "output_type": "stream",
     "text": [
      "Parsing folders:  68%|██████▊   | 68/100 [03:06<01:31,  2.85s/it]"
     ]
    },
    {
     "name": "stdout",
     "output_type": "stream",
     "text": [
      "website is missing in restaurant_1368.html\n",
      "website is missing in restaurant_1369.html\n",
      "website is missing in restaurant_1372.html\n"
     ]
    },
    {
     "name": "stderr",
     "output_type": "stream",
     "text": [
      "Parsing folders:  71%|███████   | 71/100 [03:14<01:21,  2.82s/it]"
     ]
    },
    {
     "name": "stdout",
     "output_type": "stream",
     "text": [
      "website is missing in restaurant_1423.html\n",
      "website is missing in restaurant_1435.html\n"
     ]
    },
    {
     "name": "stderr",
     "output_type": "stream",
     "text": [
      "Parsing folders:  72%|███████▏  | 72/100 [03:17<01:18,  2.81s/it]"
     ]
    },
    {
     "name": "stdout",
     "output_type": "stream",
     "text": [
      "website is missing in restaurant_1440.html\n",
      "website is missing in restaurant_1458.html\n"
     ]
    },
    {
     "name": "stderr",
     "output_type": "stream",
     "text": [
      "Parsing folders:  73%|███████▎  | 73/100 [03:19<01:11,  2.65s/it]"
     ]
    },
    {
     "name": "stdout",
     "output_type": "stream",
     "text": [
      "website is missing in restaurant_1477.html\n",
      "website is missing in restaurant_1478.html\n"
     ]
    },
    {
     "name": "stderr",
     "output_type": "stream",
     "text": [
      "Parsing folders:  74%|███████▍  | 74/100 [03:22<01:08,  2.65s/it]"
     ]
    },
    {
     "name": "stdout",
     "output_type": "stream",
     "text": [
      "website is missing in restaurant_1483.html\n",
      "website is missing in restaurant_1491.html\n"
     ]
    },
    {
     "name": "stderr",
     "output_type": "stream",
     "text": [
      "Parsing folders:  75%|███████▌  | 75/100 [03:24<01:02,  2.50s/it]"
     ]
    },
    {
     "name": "stdout",
     "output_type": "stream",
     "text": [
      "website is missing in restaurant_1511.html\n"
     ]
    },
    {
     "name": "stderr",
     "output_type": "stream",
     "text": [
      "Parsing folders:  76%|███████▌  | 76/100 [03:26<00:59,  2.48s/it]"
     ]
    },
    {
     "name": "stdout",
     "output_type": "stream",
     "text": [
      "website is missing in restaurant_1522.html\n"
     ]
    },
    {
     "name": "stderr",
     "output_type": "stream",
     "text": [
      "Parsing folders:  77%|███████▋  | 77/100 [03:29<00:54,  2.37s/it]"
     ]
    },
    {
     "name": "stdout",
     "output_type": "stream",
     "text": [
      "website is missing in restaurant_1551.html\n"
     ]
    },
    {
     "name": "stderr",
     "output_type": "stream",
     "text": [
      "Parsing folders:  79%|███████▉  | 79/100 [03:35<00:58,  2.76s/it]"
     ]
    },
    {
     "name": "stdout",
     "output_type": "stream",
     "text": [
      "website is missing in restaurant_1596.html\n"
     ]
    },
    {
     "name": "stderr",
     "output_type": "stream",
     "text": [
      "Parsing folders:  80%|████████  | 80/100 [03:38<00:55,  2.80s/it]"
     ]
    },
    {
     "name": "stdout",
     "output_type": "stream",
     "text": [
      "website is missing in restaurant_1615.html\n"
     ]
    },
    {
     "name": "stderr",
     "output_type": "stream",
     "text": [
      "Parsing folders:  82%|████████▏ | 82/100 [03:42<00:45,  2.53s/it]"
     ]
    },
    {
     "name": "stdout",
     "output_type": "stream",
     "text": [
      "website is missing in restaurant_1654.html\n"
     ]
    },
    {
     "name": "stderr",
     "output_type": "stream",
     "text": [
      "Parsing folders:  83%|████████▎ | 83/100 [03:44<00:41,  2.42s/it]"
     ]
    },
    {
     "name": "stdout",
     "output_type": "stream",
     "text": [
      "website is missing in restaurant_1662.html\n",
      "postalCode is missing in restaurant_1669.html\n"
     ]
    },
    {
     "name": "stderr",
     "output_type": "stream",
     "text": [
      "Parsing folders:  84%|████████▍ | 84/100 [03:47<00:38,  2.39s/it]"
     ]
    },
    {
     "name": "stdout",
     "output_type": "stream",
     "text": [
      "website is missing in restaurant_1679.html\n",
      "website is missing in restaurant_1680.html\n",
      "website is missing in restaurant_1692.html\n",
      "website is missing in restaurant_1698.html\n"
     ]
    },
    {
     "name": "stderr",
     "output_type": "stream",
     "text": [
      "Parsing folders:  85%|████████▌ | 85/100 [03:50<00:38,  2.55s/it]"
     ]
    },
    {
     "name": "stdout",
     "output_type": "stream",
     "text": [
      "website is missing in restaurant_1708.html\n",
      "website is missing in restaurant_1716.html\n"
     ]
    },
    {
     "name": "stderr",
     "output_type": "stream",
     "text": [
      "Parsing folders:  86%|████████▌ | 86/100 [03:52<00:35,  2.53s/it]"
     ]
    },
    {
     "name": "stdout",
     "output_type": "stream",
     "text": [
      "website is missing in restaurant_1728.html\n",
      "website is missing in restaurant_1731.html\n"
     ]
    },
    {
     "name": "stderr",
     "output_type": "stream",
     "text": [
      "Parsing folders:  87%|████████▋ | 87/100 [03:55<00:33,  2.57s/it]"
     ]
    },
    {
     "name": "stdout",
     "output_type": "stream",
     "text": [
      "website is missing in restaurant_1741.html\n",
      "website is missing in restaurant_1744.html\n"
     ]
    },
    {
     "name": "stderr",
     "output_type": "stream",
     "text": [
      "Parsing folders:  88%|████████▊ | 88/100 [03:58<00:32,  2.73s/it]"
     ]
    },
    {
     "name": "stdout",
     "output_type": "stream",
     "text": [
      "website is missing in restaurant_1767.html\n"
     ]
    },
    {
     "name": "stderr",
     "output_type": "stream",
     "text": [
      "Parsing folders:  90%|█████████ | 90/100 [04:03<00:26,  2.70s/it]"
     ]
    },
    {
     "name": "stdout",
     "output_type": "stream",
     "text": [
      "website is missing in restaurant_1815.html\n",
      "website is missing in restaurant_1816.html\n",
      "website is missing in restaurant_1818.html\n"
     ]
    },
    {
     "name": "stderr",
     "output_type": "stream",
     "text": [
      "Parsing folders:  91%|█████████ | 91/100 [04:06<00:22,  2.54s/it]"
     ]
    },
    {
     "name": "stdout",
     "output_type": "stream",
     "text": [
      "website is missing in restaurant_1824.html\n"
     ]
    },
    {
     "name": "stderr",
     "output_type": "stream",
     "text": [
      "Parsing folders:  94%|█████████▍| 94/100 [04:12<00:13,  2.30s/it]"
     ]
    },
    {
     "name": "stdout",
     "output_type": "stream",
     "text": [
      "website is missing in restaurant_1893.html\n"
     ]
    },
    {
     "name": "stderr",
     "output_type": "stream",
     "text": [
      "Parsing folders:  95%|█████████▌| 95/100 [04:15<00:11,  2.29s/it]"
     ]
    },
    {
     "name": "stdout",
     "output_type": "stream",
     "text": [
      "website is missing in restaurant_1912.html\n"
     ]
    },
    {
     "name": "stderr",
     "output_type": "stream",
     "text": [
      "Parsing folders:  96%|█████████▌| 96/100 [04:16<00:08,  2.12s/it]"
     ]
    },
    {
     "name": "stdout",
     "output_type": "stream",
     "text": [
      "website is missing in restaurant_1922.html\n",
      "website is missing in restaurant_1929.html\n"
     ]
    },
    {
     "name": "stderr",
     "output_type": "stream",
     "text": [
      "Parsing folders: 100%|██████████| 100/100 [04:23<00:00,  2.64s/it]\n"
     ]
    }
   ],
   "source": [
    "# Set paths for input and output\n",
    "input_folder = \".\"  \n",
    "output_folder = \"restaurants_parsed_data\"\n",
    "\n",
    "# Parse restaurant data and save as TSV\n",
    "ed.parse_restaurant_data(input_folder, output_folder, total_pages=100)"
   ]
  },
  {
   "cell_type": "markdown",
   "metadata": {},
   "source": [
    "# Search Engines"
   ]
  },
  {
   "cell_type": "markdown",
   "metadata": {},
   "source": [
    "Combine seperate tsv files as a one pandas dataframe"
   ]
  },
  {
   "cell_type": "code",
   "execution_count": 2,
   "metadata": {},
   "outputs": [
    {
     "data": {
      "application/vnd.jupyter.widget-view+json": {
       "model_id": "eddee638265c42a1992260cdac2a52b2",
       "version_major": 2,
       "version_minor": 0
      },
      "text/plain": [
       "HBox(children=(HTML(value=''), FloatProgress(value=0.0, max=1982.0), HTML(value='')))"
      ]
     },
     "metadata": {},
     "output_type": "display_data"
    },
    {
     "name": "stdout",
     "output_type": "stream",
     "text": [
      "\n"
     ]
    }
   ],
   "source": [
    "# List of file paths (or you can use a pattern to match all TSV files)\n",
    "file_paths = os.listdir('restaurants_parsed_data')  # Replace with your actual file names or paths\n",
    "file_paths = ['restaurants_parsed_data/' + i for i in file_paths]\n",
    "\n",
    "# Read all files and store them in a list of DataFrames\n",
    "dfs = [pd.read_csv(file, sep='\\t', dtype={'postalCode': object}) for file in tqdm(file_paths)]\n",
    "\n",
    "# Concatenate all DataFrames into one\n",
    "df = pd.concat(dfs, ignore_index=True)"
   ]
  },
  {
   "cell_type": "markdown",
   "metadata": {},
   "source": [
    "## Conjunctive Search Engine"
   ]
  },
  {
   "cell_type": "markdown",
   "metadata": {},
   "source": [
    "Apply stemming and text processing to remove punctuation, stop words, and all unnecessary characters/words from the text (refer to the cse.preprocess_text function)"
   ]
  },
  {
   "cell_type": "code",
   "execution_count": 3,
   "metadata": {},
   "outputs": [],
   "source": [
    "restaurant_descriptions = df['description'].values"
   ]
  },
  {
   "cell_type": "code",
   "execution_count": 4,
   "metadata": {},
   "outputs": [],
   "source": [
    "# preprocess restraurant descriptions\n",
    "processed_descriptions = [cse.preprocess_text(description) for description in restaurant_descriptions]"
   ]
  },
  {
   "cell_type": "markdown",
   "metadata": {},
   "source": [
    "Make vocabulary for the descriptions"
   ]
  },
  {
   "cell_type": "code",
   "execution_count": 5,
   "metadata": {},
   "outputs": [
    {
     "name": "stdout",
     "output_type": "stream",
     "text": [
      "Created vocabulary with 6968 unique terms\n"
     ]
    }
   ],
   "source": [
    "# Create vocabulary\n",
    "cse.create_vocabulary(df)"
   ]
  },
  {
   "cell_type": "markdown",
   "metadata": {},
   "source": [
    "Create an inverted index and then search for the most matching options for the query."
   ]
  },
  {
   "cell_type": "code",
   "execution_count": 6,
   "metadata": {},
   "outputs": [
    {
     "name": "stdout",
     "output_type": "stream",
     "text": [
      "{'cuisin', 'modern', 'season'}\n",
      "{774, 1414, 906, 907, 909, 1816, 1050, 163, 808, 936, 1580, 1581, 691, 1336, 1209, 315, 1979, 1217, 1862, 75, 1362, 1235, 85, 1240, 984, 1629, 351, 1888, 609, 229, 1770, 619, 362, 491, 879, 755, 1911, 889, 1019, 636}\n"
     ]
    },
    {
     "data": {
      "text/html": [
       "<div>\n",
       "<style scoped>\n",
       "    .dataframe tbody tr th:only-of-type {\n",
       "        vertical-align: middle;\n",
       "    }\n",
       "\n",
       "    .dataframe tbody tr th {\n",
       "        vertical-align: top;\n",
       "    }\n",
       "\n",
       "    .dataframe thead th {\n",
       "        text-align: right;\n",
       "    }\n",
       "</style>\n",
       "<table border=\"1\" class=\"dataframe\">\n",
       "  <thead>\n",
       "    <tr style=\"text-align: right;\">\n",
       "      <th></th>\n",
       "      <th>Restaurant Name</th>\n",
       "      <th>Address</th>\n",
       "      <th>Description</th>\n",
       "      <th>Website</th>\n",
       "    </tr>\n",
       "  </thead>\n",
       "  <tbody>\n",
       "    <tr>\n",
       "      <th>774</th>\n",
       "      <td>Retrobottega</td>\n",
       "      <td>via della Stelletta 4</td>\n",
       "      <td>Minimalist decor and clean lines characterise ...</td>\n",
       "      <td>https://www.retro-bottega.com</td>\n",
       "    </tr>\n",
       "    <tr>\n",
       "      <th>1414</th>\n",
       "      <td>Winter Garden Florence</td>\n",
       "      <td>piazza Ognissanti 1</td>\n",
       "      <td>Horse-drawn carriages once entered the old cou...</td>\n",
       "      <td>https://www.wintergardenflorence.com/it/</td>\n",
       "    </tr>\n",
       "    <tr>\n",
       "      <th>906</th>\n",
       "      <td>Locanda Solagna</td>\n",
       "      <td>piazza I  Novembre 2</td>\n",
       "      <td>Although this restaurant has been in business ...</td>\n",
       "      <td>https://www.locandasolagna.it/</td>\n",
       "    </tr>\n",
       "    <tr>\n",
       "      <th>907</th>\n",
       "      <td>Osteria del Miglio 2.10</td>\n",
       "      <td>via Patrioti 2</td>\n",
       "      <td>Although the town may not be of major importan...</td>\n",
       "      <td>NaN</td>\n",
       "    </tr>\n",
       "    <tr>\n",
       "      <th>909</th>\n",
       "      <td>Savô</td>\n",
       "      <td>piazza XXV Aprile 8</td>\n",
       "      <td>The reopening in 2022 of the Hotel Windsor wit...</td>\n",
       "      <td>http://www.thewindsor.it</td>\n",
       "    </tr>\n",
       "    <tr>\n",
       "      <th>1816</th>\n",
       "      <td>San Giorgio</td>\n",
       "      <td>viale Brigate Bisagno 69r</td>\n",
       "      <td>Situated in the city albeit not right in the c...</td>\n",
       "      <td>https://www.ristorantesangiorgiogenova.it/</td>\n",
       "    </tr>\n",
       "    <tr>\n",
       "      <th>1050</th>\n",
       "      <td>Mima</td>\n",
       "      <td>via Madonnelle 9</td>\n",
       "      <td>You’ll be won over by the seasonal Mediterrane...</td>\n",
       "      <td>http://www.domo20.com/restaurant</td>\n",
       "    </tr>\n",
       "    <tr>\n",
       "      <th>163</th>\n",
       "      <td>Ronchi Rò</td>\n",
       "      <td>località Cime di Dolegna 12</td>\n",
       "      <td>Ronchi Rò is an estate-cum-agriturismo surroun...</td>\n",
       "      <td>https://www.ronchiro.it</td>\n",
       "    </tr>\n",
       "    <tr>\n",
       "      <th>808</th>\n",
       "      <td>RistoFante</td>\n",
       "      <td>via Mazzini 41</td>\n",
       "      <td>The motto of this restaurant is “In step with ...</td>\n",
       "      <td>https://www.ristofante.it/</td>\n",
       "    </tr>\n",
       "    <tr>\n",
       "      <th>936</th>\n",
       "      <td>Le Vie del Borgo</td>\n",
       "      <td>via alla Piazza 6</td>\n",
       "      <td>Le Vie del Borgo is situated in a restored rus...</td>\n",
       "      <td>https://www.leviedelborgoguesthouse.it/</td>\n",
       "    </tr>\n",
       "    <tr>\n",
       "      <th>1580</th>\n",
       "      <td>La Valle</td>\n",
       "      <td>via Umberto I 25</td>\n",
       "      <td>A well - run restaurant in a quiet area just o...</td>\n",
       "      <td>https://www.ristorantelavalle.it/</td>\n",
       "    </tr>\n",
       "    <tr>\n",
       "      <th>1581</th>\n",
       "      <td>Esplanade</td>\n",
       "      <td>via Lario 3</td>\n",
       "      <td>One of Italy’s long-established restaurants, t...</td>\n",
       "      <td>https://www.ristorante-esplanade.com/</td>\n",
       "    </tr>\n",
       "    <tr>\n",
       "      <th>691</th>\n",
       "      <td>Sintesi</td>\n",
       "      <td>viale dei Castani 17</td>\n",
       "      <td>A modern, welcoming restaurant whose motto “Tr...</td>\n",
       "      <td>http://ristorantesintesi.it</td>\n",
       "    </tr>\n",
       "    <tr>\n",
       "      <th>1336</th>\n",
       "      <td>San Michele</td>\n",
       "      <td>via Castello di Fagagna 33</td>\n",
       "      <td>Situated next to the ruins of the old castle a...</td>\n",
       "      <td>http://sanmichele.restaurant</td>\n",
       "    </tr>\n",
       "    <tr>\n",
       "      <th>1209</th>\n",
       "      <td>Ca' Del Moro</td>\n",
       "      <td>località Erbin 31</td>\n",
       "      <td>Situated within the La Collina dei Ciliegi win...</td>\n",
       "      <td>https://www.cadelmoro.wine/it</td>\n",
       "    </tr>\n",
       "    <tr>\n",
       "      <th>315</th>\n",
       "      <td>Flurin</td>\n",
       "      <td>Laubengasse 2</td>\n",
       "      <td>Flurin occupies an old medieval tower in Glore...</td>\n",
       "      <td>https://www.flurin.it</td>\n",
       "    </tr>\n",
       "    <tr>\n",
       "      <th>1979</th>\n",
       "      <td>Aprudia</td>\n",
       "      <td>largo del Forno 16</td>\n",
       "      <td>At this restaurant in the historic centre, whe...</td>\n",
       "      <td>http://www.aprudia.com</td>\n",
       "    </tr>\n",
       "    <tr>\n",
       "      <th>1217</th>\n",
       "      <td>Casin del Gamba</td>\n",
       "      <td>via Roccolo Pizzati 1</td>\n",
       "      <td>The journey to get here – a winding road throu...</td>\n",
       "      <td>https://www.casindelgamba.it/</td>\n",
       "    </tr>\n",
       "    <tr>\n",
       "      <th>1862</th>\n",
       "      <td>La Bandiera</td>\n",
       "      <td>contrada Pastini 4</td>\n",
       "      <td>Although it takes a while to reach this restau...</td>\n",
       "      <td>https://www.labandiera.it/</td>\n",
       "    </tr>\n",
       "    <tr>\n",
       "      <th>75</th>\n",
       "      <td>La Corniola</td>\n",
       "      <td>via dei Mastri Lombardi 24</td>\n",
       "      <td>Known throughout Italy for its pillow lace, th...</td>\n",
       "      <td>https://www.lacorniola.com/</td>\n",
       "    </tr>\n",
       "    <tr>\n",
       "      <th>1362</th>\n",
       "      <td>Chichibio</td>\n",
       "      <td>via Guglielmo Marconi 1</td>\n",
       "      <td>Despite its lack of awards, this restaurant st...</td>\n",
       "      <td>NaN</td>\n",
       "    </tr>\n",
       "    <tr>\n",
       "      <th>1235</th>\n",
       "      <td>Contrasto</td>\n",
       "      <td>via Roma 55</td>\n",
       "      <td>Having returned to his native village, owner-c...</td>\n",
       "      <td>https://contrastoristorante.it</td>\n",
       "    </tr>\n",
       "    <tr>\n",
       "      <th>85</th>\n",
       "      <td>Piccolo Lord</td>\n",
       "      <td>corso San Maurizio 69 bis/g</td>\n",
       "      <td>Professional service in a welcoming, modern re...</td>\n",
       "      <td>https://www.ristorantepiccololord.it/</td>\n",
       "    </tr>\n",
       "    <tr>\n",
       "      <th>1240</th>\n",
       "      <td>Saur</td>\n",
       "      <td>via Filippo Turati 8</td>\n",
       "      <td>In a tiny rural village, this contemporary, al...</td>\n",
       "      <td>https://ristorantesaur.it</td>\n",
       "    </tr>\n",
       "    <tr>\n",
       "      <th>984</th>\n",
       "      <td>Saporium</td>\n",
       "      <td>località Palazzetto 110</td>\n",
       "      <td>Saporium is the new fine-dining restaurant at ...</td>\n",
       "      <td>http://www.saporium.com/it/borgo-santo.pietro/</td>\n",
       "    </tr>\n",
       "    <tr>\n",
       "      <th>1629</th>\n",
       "      <td>Zum Löwen</td>\n",
       "      <td>via Tirolo 25</td>\n",
       "      <td>A charming restaurant housed in a skilfully re...</td>\n",
       "      <td>NaN</td>\n",
       "    </tr>\n",
       "    <tr>\n",
       "      <th>351</th>\n",
       "      <td>Quadri Bistrot</td>\n",
       "      <td>Via Solferino 48</td>\n",
       "      <td>A modern bistro with a cocktail-bar, trendy de...</td>\n",
       "      <td>https://www.quadribistrot.it/</td>\n",
       "    </tr>\n",
       "    <tr>\n",
       "      <th>1888</th>\n",
       "      <td>Pipero Roma</td>\n",
       "      <td>corso Vittorio Emanuele II 250</td>\n",
       "      <td>Situated opposite the church of Santa Maria in...</td>\n",
       "      <td>https://www.piperoroma.it/</td>\n",
       "    </tr>\n",
       "    <tr>\n",
       "      <th>609</th>\n",
       "      <td>[àbitat]</td>\n",
       "      <td>via Henry Dunant 1</td>\n",
       "      <td>A young, enthusiastic and professional couple ...</td>\n",
       "      <td>https://www.abitatproject.it</td>\n",
       "    </tr>\n",
       "    <tr>\n",
       "      <th>229</th>\n",
       "      <td>Razzo</td>\n",
       "      <td>via Andrea Doria 17/f</td>\n",
       "      <td>A quiet restaurant with a relaxed, young and m...</td>\n",
       "      <td>https://vadoarazzo.it/</td>\n",
       "    </tr>\n",
       "    <tr>\n",
       "      <th>1770</th>\n",
       "      <td>Degusteria del Gigante</td>\n",
       "      <td>via degli Anelli 19</td>\n",
       "      <td>Situated in the charming historic centre of th...</td>\n",
       "      <td>https://www.degusteriadelgigante.it/</td>\n",
       "    </tr>\n",
       "    <tr>\n",
       "      <th>619</th>\n",
       "      <td>Babette</td>\n",
       "      <td>via Michelangelo 17</td>\n",
       "      <td>Situated just beyond the centre of Albenga in ...</td>\n",
       "      <td>https://www.ristorantebabette.net/</td>\n",
       "    </tr>\n",
       "    <tr>\n",
       "      <th>362</th>\n",
       "      <td>Materia | Spazio Cucina</td>\n",
       "      <td>via Teatro Massimo 29</td>\n",
       "      <td>The entrance to this restaurant is typical of ...</td>\n",
       "      <td>https://www.materiaspaziocucina.it/</td>\n",
       "    </tr>\n",
       "    <tr>\n",
       "      <th>491</th>\n",
       "      <td>Gallery Bistrot Contemporaneo</td>\n",
       "      <td>via Regina Margherita 3/b</td>\n",
       "      <td>Modern, tasty and carefully curated cuisine, w...</td>\n",
       "      <td>NaN</td>\n",
       "    </tr>\n",
       "    <tr>\n",
       "      <th>879</th>\n",
       "      <td>Radimare</td>\n",
       "      <td>via Beato Piergiorgio Frassati 5/a</td>\n",
       "      <td>There’s no tasting menu at this restaurant but...</td>\n",
       "      <td>http://www.radimare.com</td>\n",
       "    </tr>\n",
       "    <tr>\n",
       "      <th>755</th>\n",
       "      <td>Osteria Taviani</td>\n",
       "      <td>piazza Vittorio Emanuele II 28</td>\n",
       "      <td>This pleasant, warmly decorated restaurant is ...</td>\n",
       "      <td>NaN</td>\n",
       "    </tr>\n",
       "    <tr>\n",
       "      <th>1911</th>\n",
       "      <td>Secondo Tempo</td>\n",
       "      <td>via Vittorio Amedeo 55</td>\n",
       "      <td>Situated on the first floor of a building (for...</td>\n",
       "      <td>http://www.ristorantesecondotempo.it</td>\n",
       "    </tr>\n",
       "    <tr>\n",
       "      <th>889</th>\n",
       "      <td>20Tre</td>\n",
       "      <td>via David Chiossone 20 r</td>\n",
       "      <td>Run by three partners, this contemporary-style...</td>\n",
       "      <td>https://www.ristorante20tregenova.it/</td>\n",
       "    </tr>\n",
       "    <tr>\n",
       "      <th>1019</th>\n",
       "      <td>Il Tino</td>\n",
       "      <td>via Monte Cadria 127</td>\n",
       "      <td>Enjoying an attractive location in the Nautilu...</td>\n",
       "      <td>https://www.ristoranteiltino.com/</td>\n",
       "    </tr>\n",
       "    <tr>\n",
       "      <th>636</th>\n",
       "      <td>Cappuccini Cucina San Francesco</td>\n",
       "      <td>via Cappuccini 54</td>\n",
       "      <td>Housed in the resort of the same name, this el...</td>\n",
       "      <td>https://www.cappuccini.it/</td>\n",
       "    </tr>\n",
       "  </tbody>\n",
       "</table>\n",
       "</div>"
      ],
      "text/plain": [
       "                      Restaurant Name                             Address  \\\n",
       "774                      Retrobottega               via della Stelletta 4   \n",
       "1414           Winter Garden Florence                 piazza Ognissanti 1   \n",
       "906                   Locanda Solagna                piazza I  Novembre 2   \n",
       "907           Osteria del Miglio 2.10                      via Patrioti 2   \n",
       "909                              Savô                 piazza XXV Aprile 8   \n",
       "1816                      San Giorgio           viale Brigate Bisagno 69r   \n",
       "1050                             Mima                    via Madonnelle 9   \n",
       "163                         Ronchi Rò         località Cime di Dolegna 12   \n",
       "808                        RistoFante                      via Mazzini 41   \n",
       "936                  Le Vie del Borgo                   via alla Piazza 6   \n",
       "1580                         La Valle                    via Umberto I 25   \n",
       "1581                        Esplanade                         via Lario 3   \n",
       "691                           Sintesi                viale dei Castani 17   \n",
       "1336                      San Michele          via Castello di Fagagna 33   \n",
       "1209                     Ca' Del Moro                   località Erbin 31   \n",
       "315                            Flurin                       Laubengasse 2   \n",
       "1979                          Aprudia                  largo del Forno 16   \n",
       "1217                  Casin del Gamba               via Roccolo Pizzati 1   \n",
       "1862                      La Bandiera                  contrada Pastini 4   \n",
       "75                        La Corniola          via dei Mastri Lombardi 24   \n",
       "1362                        Chichibio             via Guglielmo Marconi 1   \n",
       "1235                        Contrasto                         via Roma 55   \n",
       "85                       Piccolo Lord         corso San Maurizio 69 bis/g   \n",
       "1240                             Saur                via Filippo Turati 8   \n",
       "984                          Saporium             località Palazzetto 110   \n",
       "1629                        Zum Löwen                       via Tirolo 25   \n",
       "351                    Quadri Bistrot                    Via Solferino 48   \n",
       "1888                      Pipero Roma      corso Vittorio Emanuele II 250   \n",
       "609                          [àbitat]                  via Henry Dunant 1   \n",
       "229                             Razzo               via Andrea Doria 17/f   \n",
       "1770           Degusteria del Gigante                 via degli Anelli 19   \n",
       "619                           Babette                 via Michelangelo 17   \n",
       "362           Materia | Spazio Cucina               via Teatro Massimo 29   \n",
       "491     Gallery Bistrot Contemporaneo           via Regina Margherita 3/b   \n",
       "879                          Radimare  via Beato Piergiorgio Frassati 5/a   \n",
       "755                   Osteria Taviani      piazza Vittorio Emanuele II 28   \n",
       "1911                    Secondo Tempo              via Vittorio Amedeo 55   \n",
       "889                             20Tre            via David Chiossone 20 r   \n",
       "1019                          Il Tino                via Monte Cadria 127   \n",
       "636   Cappuccini Cucina San Francesco                   via Cappuccini 54   \n",
       "\n",
       "                                            Description  \\\n",
       "774   Minimalist decor and clean lines characterise ...   \n",
       "1414  Horse-drawn carriages once entered the old cou...   \n",
       "906   Although this restaurant has been in business ...   \n",
       "907   Although the town may not be of major importan...   \n",
       "909   The reopening in 2022 of the Hotel Windsor wit...   \n",
       "1816  Situated in the city albeit not right in the c...   \n",
       "1050  You’ll be won over by the seasonal Mediterrane...   \n",
       "163   Ronchi Rò is an estate-cum-agriturismo surroun...   \n",
       "808   The motto of this restaurant is “In step with ...   \n",
       "936   Le Vie del Borgo is situated in a restored rus...   \n",
       "1580  A well - run restaurant in a quiet area just o...   \n",
       "1581  One of Italy’s long-established restaurants, t...   \n",
       "691   A modern, welcoming restaurant whose motto “Tr...   \n",
       "1336  Situated next to the ruins of the old castle a...   \n",
       "1209  Situated within the La Collina dei Ciliegi win...   \n",
       "315   Flurin occupies an old medieval tower in Glore...   \n",
       "1979  At this restaurant in the historic centre, whe...   \n",
       "1217  The journey to get here – a winding road throu...   \n",
       "1862  Although it takes a while to reach this restau...   \n",
       "75    Known throughout Italy for its pillow lace, th...   \n",
       "1362  Despite its lack of awards, this restaurant st...   \n",
       "1235  Having returned to his native village, owner-c...   \n",
       "85    Professional service in a welcoming, modern re...   \n",
       "1240  In a tiny rural village, this contemporary, al...   \n",
       "984   Saporium is the new fine-dining restaurant at ...   \n",
       "1629  A charming restaurant housed in a skilfully re...   \n",
       "351   A modern bistro with a cocktail-bar, trendy de...   \n",
       "1888  Situated opposite the church of Santa Maria in...   \n",
       "609   A young, enthusiastic and professional couple ...   \n",
       "229   A quiet restaurant with a relaxed, young and m...   \n",
       "1770  Situated in the charming historic centre of th...   \n",
       "619   Situated just beyond the centre of Albenga in ...   \n",
       "362   The entrance to this restaurant is typical of ...   \n",
       "491   Modern, tasty and carefully curated cuisine, w...   \n",
       "879   There’s no tasting menu at this restaurant but...   \n",
       "755   This pleasant, warmly decorated restaurant is ...   \n",
       "1911  Situated on the first floor of a building (for...   \n",
       "889   Run by three partners, this contemporary-style...   \n",
       "1019  Enjoying an attractive location in the Nautilu...   \n",
       "636   Housed in the resort of the same name, this el...   \n",
       "\n",
       "                                             Website  \n",
       "774                    https://www.retro-bottega.com  \n",
       "1414        https://www.wintergardenflorence.com/it/  \n",
       "906                   https://www.locandasolagna.it/  \n",
       "907                                              NaN  \n",
       "909                         http://www.thewindsor.it  \n",
       "1816      https://www.ristorantesangiorgiogenova.it/  \n",
       "1050                http://www.domo20.com/restaurant  \n",
       "163                          https://www.ronchiro.it  \n",
       "808                       https://www.ristofante.it/  \n",
       "936          https://www.leviedelborgoguesthouse.it/  \n",
       "1580               https://www.ristorantelavalle.it/  \n",
       "1581           https://www.ristorante-esplanade.com/  \n",
       "691                      http://ristorantesintesi.it  \n",
       "1336                    http://sanmichele.restaurant  \n",
       "1209                   https://www.cadelmoro.wine/it  \n",
       "315                            https://www.flurin.it  \n",
       "1979                          http://www.aprudia.com  \n",
       "1217                   https://www.casindelgamba.it/  \n",
       "1862                      https://www.labandiera.it/  \n",
       "75                       https://www.lacorniola.com/  \n",
       "1362                                             NaN  \n",
       "1235                  https://contrastoristorante.it  \n",
       "85             https://www.ristorantepiccololord.it/  \n",
       "1240                       https://ristorantesaur.it  \n",
       "984   http://www.saporium.com/it/borgo-santo.pietro/  \n",
       "1629                                             NaN  \n",
       "351                    https://www.quadribistrot.it/  \n",
       "1888                      https://www.piperoroma.it/  \n",
       "609                     https://www.abitatproject.it  \n",
       "229                           https://vadoarazzo.it/  \n",
       "1770            https://www.degusteriadelgigante.it/  \n",
       "619               https://www.ristorantebabette.net/  \n",
       "362              https://www.materiaspaziocucina.it/  \n",
       "491                                              NaN  \n",
       "879                          http://www.radimare.com  \n",
       "755                                              NaN  \n",
       "1911            http://www.ristorantesecondotempo.it  \n",
       "889            https://www.ristorante20tregenova.it/  \n",
       "1019               https://www.ristoranteiltino.com/  \n",
       "636                       https://www.cappuccini.it/  "
      ]
     },
     "execution_count": 6,
     "metadata": {},
     "output_type": "execute_result"
    }
   ],
   "source": [
    "# Define the search query\n",
    "query = \"modern seasonal cuisine\"\n",
    "\n",
    "# Build the inverted index using preprocessed descriptions\n",
    "inverted_index = cse.build_inverted_index(processed_descriptions)\n",
    "\n",
    "# Search for restaurants matching the query using the inverted index and restaurant data\n",
    "# The function will return a DataFrame of restaurants whose descriptions contain all terms from the query\n",
    "matching_restaurants = cse.search_restaurants(query, inverted_index, df)\n",
    "matching_restaurants"
   ]
  },
  {
   "cell_type": "markdown",
   "metadata": {},
   "source": [
    "## Ranked Search Engine"
   ]
  },
  {
   "cell_type": "markdown",
   "metadata": {},
   "source": [
    "Apply stemming and text processing to remove punctuation, stop words, and all unnecessary characters/words from the text (refer to the cse.preprocess_text function)"
   ]
  },
  {
   "cell_type": "code",
   "execution_count": 7,
   "metadata": {},
   "outputs": [],
   "source": [
    "# Set restaurant descriptions and query\n",
    "restaurant_descriptions = df['description'].values\n",
    "query = \"modern seasonal cuisine\""
   ]
  },
  {
   "cell_type": "code",
   "execution_count": 8,
   "metadata": {},
   "outputs": [],
   "source": [
    "# Preprocess each restaurant description using the preprocess_text function\n",
    "# This will clean and prepare the descriptions for further text analysis (e.g., removing stopwords, punctuation, stemming)\n",
    "processed_descriptions = [rse.preprocess_text(description) for description in restaurant_descriptions]\n",
    "\n",
    "# Preprocess the search query using the preprocess_text function\n",
    "# This ensures the query is cleaned and ready for comparison with the restaurant descriptions\n",
    "processed_query = rse.preprocess_text(query)"
   ]
  },
  {
   "cell_type": "code",
   "execution_count": 9,
   "metadata": {},
   "outputs": [
    {
     "name": "stdout",
     "output_type": "stream",
     "text": [
      "Created vocabulary with 3422 unique terms (frequency >= 2) and (frequency <= 1900)\n"
     ]
    }
   ],
   "source": [
    "# Create a vocabulary from the processed query using the create_vocabulary function.\n",
    "# This will filter words based on their frequency, keeping only those that appear \n",
    "# between 'min_frequency' (2) and 'max_frequency' (1900) times. \n",
    "# The result will be saved as a CSV file containing the vocabulary of terms found in the query.\n",
    "rse.create_vocabulary(processed_descriptions, min_frequency=2, max_frequency=1900)"
   ]
  },
  {
   "cell_type": "markdown",
   "metadata": {},
   "source": [
    "Apply TF-IDF transformation and assign scores to each term in each description."
   ]
  },
  {
   "cell_type": "code",
   "execution_count": 10,
   "metadata": {},
   "outputs": [],
   "source": [
    "vocabulary = pd.read_csv('vocabulary_rse.csv', low_memory=False)\n",
    "vocabulary_dict = vocabulary.set_index('term')['term_id'].to_dict() # Transform vocabulary dataframe to dictionary"
   ]
  },
  {
   "cell_type": "code",
   "execution_count": 11,
   "metadata": {},
   "outputs": [],
   "source": [
    "# Initialize the TfidfVectorizer with the predefined vocabulary (vocabulary_dict).\n",
    "# This will ensure that the vectorizer only considers the terms in 'vocabulary_dict' during transformation,\n",
    "# effectively using the custom vocabulary for both the restaurant descriptions and the query.\n",
    "vectorizer = TfidfVectorizer(vocabulary=vocabulary_dict)\n",
    "\n",
    "# Fit the TF-IDF model on the processed restaurant descriptions and transform the descriptions into a TF-IDF matrix.\n",
    "# Each row of the resulting matrix represents the TF-IDF values of the terms (from vocabulary_dict) for each restaurant description.\n",
    "tfidf_matrix = vectorizer.fit_transform(processed_descriptions)\n",
    "\n",
    "# Transform the processed query into a TF-IDF vector using the same vectorizer.\n",
    "# This allows the query to be represented in the same vector space as the restaurant descriptions.\n",
    "tfidf_query = vectorizer.transform([processed_query])\n"
   ]
  },
  {
   "cell_type": "code",
   "execution_count": 12,
   "metadata": {},
   "outputs": [],
   "source": [
    "terms = vectorizer.get_feature_names() # terms for TF-IDF Transformation, it the same as  vocabulary_dict"
   ]
  },
  {
   "cell_type": "code",
   "execution_count": 13,
   "metadata": {},
   "outputs": [
    {
     "data": {
      "text/plain": [
       "3422"
      ]
     },
     "execution_count": 13,
     "metadata": {},
     "output_type": "execute_result"
    }
   ],
   "source": [
    "len(terms)"
   ]
  },
  {
   "cell_type": "markdown",
   "metadata": {},
   "source": [
    "Make inverted index for each document and specific TF-IDF score"
   ]
  },
  {
   "cell_type": "code",
   "execution_count": 14,
   "metadata": {},
   "outputs": [
    {
     "data": {
      "application/vnd.jupyter.widget-view+json": {
       "model_id": "b653f2c227154badad3685b3d98c5f5f",
       "version_major": 2,
       "version_minor": 0
      },
      "text/plain": [
       "HBox(children=(HTML(value='Building Inverted Index'), FloatProgress(value=0.0, max=3422.0), HTML(value='')))"
      ]
     },
     "metadata": {},
     "output_type": "display_data"
    },
    {
     "name": "stdout",
     "output_type": "stream",
     "text": [
      "\n",
      "Inverted index saved as inverted_index.pkl\n"
     ]
    }
   ],
   "source": [
    "# Call the 'build_inverted_index' function from the 'rse' module to create an inverted index\n",
    "# using the provided TF-IDF matrix and list of terms. The inverted index will map each term\n",
    "# to a list of tuples, where each tuple contains a document ID and the corresponding TF-IDF score.\n",
    "inverted_index = rse.build_inverted_index(tfidf_matrix, terms)"
   ]
  },
  {
   "cell_type": "markdown",
   "metadata": {},
   "source": [
    "Search most relevant resturants based on cosine similarity scores"
   ]
  },
  {
   "cell_type": "code",
   "execution_count": 15,
   "metadata": {},
   "outputs": [],
   "source": [
    "# Transform the query into a TF-IDF vector and flatten it\n",
    "tfidf_query = vectorizer.transform([processed_query]).toarray().flatten()\n",
    "\n",
    "# Rank restaurants by query similarity and get the top 5 results\n",
    "top_k_resto = rse.rank_restaurants_by_query_similarity(tfidf_matrix, tfidf_query, terms, inverted_index, df, k=5)"
   ]
  },
  {
   "cell_type": "code",
   "execution_count": 16,
   "metadata": {},
   "outputs": [
    {
     "data": {
      "text/html": [
       "<div>\n",
       "<style scoped>\n",
       "    .dataframe tbody tr th:only-of-type {\n",
       "        vertical-align: middle;\n",
       "    }\n",
       "\n",
       "    .dataframe tbody tr th {\n",
       "        vertical-align: top;\n",
       "    }\n",
       "\n",
       "    .dataframe thead th {\n",
       "        text-align: right;\n",
       "    }\n",
       "</style>\n",
       "<table border=\"1\" class=\"dataframe\">\n",
       "  <thead>\n",
       "    <tr style=\"text-align: right;\">\n",
       "      <th></th>\n",
       "      <th>Restaurant Name</th>\n",
       "      <th>Address</th>\n",
       "      <th>Description</th>\n",
       "      <th>Website</th>\n",
       "      <th>Similarity Score</th>\n",
       "    </tr>\n",
       "  </thead>\n",
       "  <tbody>\n",
       "    <tr>\n",
       "      <th>1240</th>\n",
       "      <td>Saur</td>\n",
       "      <td>via Filippo Turati 8</td>\n",
       "      <td>In a tiny rural village, this contemporary, al...</td>\n",
       "      <td>https://ristorantesaur.it</td>\n",
       "      <td>0.324502</td>\n",
       "    </tr>\n",
       "    <tr>\n",
       "      <th>748</th>\n",
       "      <td>La Botte</td>\n",
       "      <td>via Giuseppe Garibaldi 8</td>\n",
       "      <td>A modern and welcoming contemporary bistro sit...</td>\n",
       "      <td>http://www.trattorialabottestresa.it</td>\n",
       "      <td>0.290012</td>\n",
       "    </tr>\n",
       "    <tr>\n",
       "      <th>229</th>\n",
       "      <td>Razzo</td>\n",
       "      <td>via Andrea Doria 17/f</td>\n",
       "      <td>A quiet restaurant with a relaxed, young and m...</td>\n",
       "      <td>https://vadoarazzo.it/</td>\n",
       "      <td>0.272269</td>\n",
       "    </tr>\n",
       "    <tr>\n",
       "      <th>85</th>\n",
       "      <td>Piccolo Lord</td>\n",
       "      <td>corso San Maurizio 69 bis/g</td>\n",
       "      <td>Professional service in a welcoming, modern re...</td>\n",
       "      <td>https://www.ristorantepiccololord.it/</td>\n",
       "      <td>0.258417</td>\n",
       "    </tr>\n",
       "    <tr>\n",
       "      <th>1580</th>\n",
       "      <td>La Valle</td>\n",
       "      <td>via Umberto I 25</td>\n",
       "      <td>A well - run restaurant in a quiet area just o...</td>\n",
       "      <td>https://www.ristorantelavalle.it/</td>\n",
       "      <td>0.241693</td>\n",
       "    </tr>\n",
       "  </tbody>\n",
       "</table>\n",
       "</div>"
      ],
      "text/plain": [
       "     Restaurant Name                      Address  \\\n",
       "1240            Saur         via Filippo Turati 8   \n",
       "748         La Botte     via Giuseppe Garibaldi 8   \n",
       "229            Razzo        via Andrea Doria 17/f   \n",
       "85      Piccolo Lord  corso San Maurizio 69 bis/g   \n",
       "1580        La Valle             via Umberto I 25   \n",
       "\n",
       "                                            Description  \\\n",
       "1240  In a tiny rural village, this contemporary, al...   \n",
       "748   A modern and welcoming contemporary bistro sit...   \n",
       "229   A quiet restaurant with a relaxed, young and m...   \n",
       "85    Professional service in a welcoming, modern re...   \n",
       "1580  A well - run restaurant in a quiet area just o...   \n",
       "\n",
       "                                    Website  Similarity Score  \n",
       "1240              https://ristorantesaur.it          0.324502  \n",
       "748    http://www.trattorialabottestresa.it          0.290012  \n",
       "229                  https://vadoarazzo.it/          0.272269  \n",
       "85    https://www.ristorantepiccololord.it/          0.258417  \n",
       "1580      https://www.ristorantelavalle.it/          0.241693  "
      ]
     },
     "execution_count": 16,
     "metadata": {},
     "output_type": "execute_result"
    }
   ],
   "source": [
    "top_k_resto"
   ]
  },
  {
   "cell_type": "markdown",
   "metadata": {},
   "source": [
    "# New Score"
   ]
  },
  {
   "cell_type": "markdown",
   "metadata": {},
   "source": [
    "This code implements a ranked search engine for restaurants based on a query and restaurant descriptions. Here's a step-by-step breakdown of what happens:\n",
    "\n",
    "1. **Preprocessing Data**:\n",
    "   - The restaurant descriptions are extracted from the `df_matching` DataFrame.\n",
    "   - Both the restaurant descriptions and the search query are preprocessed using the `preprocess_text` function. This function cleans the text by removing stopwords, punctuation, and applying stemming.\n",
    "\n",
    "2. **TF-IDF Transformation**:\n",
    "   - The descriptions and the search query are transformed into TF-IDF vectors using a pre-trained vectorizer.\n",
    "   - This allows for comparing the query with the restaurant descriptions in a common vector space.\n",
    "\n",
    "3. **Compute Scores**:\n",
    "   - The `compute_score` function is used to calculate a score for each restaurant based on multiple factors:\n",
    "     - **TF-IDF Cosine Similarity**: Measures how similar the restaurant's description is to the query. This is weighted at 50%.\n",
    "     - **Cuisine Match**: If the restaurant's cuisine matches the specified type (e.g., \"Italian Contemporary\"), a 20% weight is added.\n",
    "     - **Facilities and Services Match**: If the restaurant offers specific facilities (e.g., \"Terrace\"), another 20% weight is added.\n",
    "     - **Price Range**: A small weight is added based on the restaurant's price range (e.g., \"€\", \"€€\", \"€€€\").\n",
    "\n",
    "4. **Heap for Top-k**:\n",
    "   - A max-heap is used to maintain the top-k (5 in this case) highest-scoring restaurants.\n",
    "   - For each restaurant, its score is computed and pushed to the heap. If the heap exceeds the top-k size, the lowest-scoring restaurant is removed.\n",
    "\n",
    "5. **Retrieve Top-k Restaurants**:\n",
    "   - The top-k restaurants are sorted by their scores in descending order.\n",
    "   - The relevant details (restaurant name, address, description, website) are retrieved into a new DataFrame for display."
   ]
  },
  {
   "cell_type": "code",
   "execution_count": 17,
   "metadata": {},
   "outputs": [],
   "source": [
    "df_matching = df.iloc[matching_restaurants.index]"
   ]
  },
  {
   "cell_type": "code",
   "execution_count": 18,
   "metadata": {},
   "outputs": [],
   "source": [
    "# Set restaurant descriptions and query\n",
    "restaurant_descriptions = df_matching['description'].values\n",
    "query = \"modern seasonal cuisine\""
   ]
  },
  {
   "cell_type": "code",
   "execution_count": 19,
   "metadata": {},
   "outputs": [],
   "source": [
    "# Preprocess each restaurant description using the preprocess_text function\n",
    "# This will clean and prepare the descriptions for further text analysis (e.g., removing stopwords, punctuation, stemming)\n",
    "processed_descriptions = [rse.preprocess_text(description) for description in restaurant_descriptions]\n",
    "\n",
    "# Preprocess the search query using the preprocess_text function\n",
    "# This ensures the query is cleaned and ready for comparison with the restaurant descriptions\n",
    "processed_query = rse.preprocess_text(query)"
   ]
  },
  {
   "cell_type": "code",
   "execution_count": 20,
   "metadata": {},
   "outputs": [],
   "source": [
    "# transform the descriptions into a TF-IDF matrix.\n",
    "# Each row of the resulting matrix represents the TF-IDF values of the terms (from vocabulary_dict) for each restaurant description.\n",
    "tfidf_matrix = vectorizer.transform(processed_descriptions)\n",
    "\n",
    "# Transform the processed query into a TF-IDF vector using the same vectorizer.\n",
    "# This allows the query to be represented in the same vector space as the restaurant descriptions.\n",
    "tfidf_query = vectorizer.transform([processed_query])"
   ]
  },
  {
   "cell_type": "code",
   "execution_count": 21,
   "metadata": {},
   "outputs": [],
   "source": [
    "def compute_score(restaurant, tfidf_query, tfidf_matrix, cuisine, facility, price=True):\n",
    "    score = 0\n",
    "    \n",
    "    # Description Match (TF-IDF cosine similarity)\n",
    "    score += cosine_similarity(tfidf_matrix, tfidf_query)[0][0] * 0.5  # Weight: 50%\n",
    "    # print(score)\n",
    "    \n",
    "    # Cuisine Match\n",
    "    if cuisine in restaurant[\"cuisineType\"]:\n",
    "        score += 0.2  # Weight: 20% \n",
    "    \n",
    "    # Facilities and Services\n",
    "    cleaned_facser = restaurant[\"facilitiesServices\"].strip('[]').split(',')\n",
    "    final_facser = [item.strip().strip(\"'\") for item in cleaned_facser]\n",
    "    if facility in final_facser:\n",
    "        score += 0.2  # Weight: 20% \n",
    "    \n",
    "    # Price Range (affordable preference: \"€\")\n",
    "    if price==True: #restaurant[\"priceRange\"] in price_preference:\n",
    "        if restaurant[\"priceRange\"] == '€':\n",
    "            score += 0.1 # Weight: 10%\n",
    "        elif restaurant[\"priceRange\"] == '€€':\n",
    "            score += 0.08  # Weight: 8%\n",
    "        elif restaurant[\"priceRange\"] == '€€€':\n",
    "            score += 0.05  # Weight: 5%\n",
    "        else:\n",
    "            score += 0\n",
    "\n",
    "    return score"
   ]
  },
  {
   "cell_type": "code",
   "execution_count": 22,
   "metadata": {},
   "outputs": [],
   "source": [
    "# Heap to maintain top-k restaurants\n",
    "top_k = 10\n",
    "heap = []\n",
    "\n",
    "for idx, rest_ind in enumerate(df_matching.index):\n",
    "    score = compute_score(df_matching.loc[rest_ind, :], tfidf_query, tfidf_matrix[idx], cuisine='Italian Contemporary', facility='Terrace', price=True)\n",
    "    heapq.heappush(heap, (-score, df_matching.loc[rest_ind, :].to_dict))  # Push negative score to create a max-heap\n",
    "    \n",
    "    if len(heap) > top_k:\n",
    "        heapq.heappop(heap)  # Remove the lowest-scoring restaurant if heap size exceeds k\n",
    "\n",
    "\n",
    "# Retrieve top-k restaurants\n",
    "top_restaurants = sorted(heap, reverse=True, key=lambda x: -x[0])  # Sort by score (descending)\n",
    "output = pd.DataFrame([{\"restaurantName\": r()[\"restaurantName\"], \n",
    "           \"address\": r()[\"address\"], \n",
    "           \"description\": r()[\"description\"], \n",
    "           \"website\": r().get(\"website\", \"N/A\")} for _, r in top_restaurants])\n"
   ]
  },
  {
   "cell_type": "code",
   "execution_count": 23,
   "metadata": {},
   "outputs": [
    {
     "data": {
      "text/html": [
       "<div>\n",
       "<style scoped>\n",
       "    .dataframe tbody tr th:only-of-type {\n",
       "        vertical-align: middle;\n",
       "    }\n",
       "\n",
       "    .dataframe tbody tr th {\n",
       "        vertical-align: top;\n",
       "    }\n",
       "\n",
       "    .dataframe thead th {\n",
       "        text-align: right;\n",
       "    }\n",
       "</style>\n",
       "<table border=\"1\" class=\"dataframe\">\n",
       "  <thead>\n",
       "    <tr style=\"text-align: right;\">\n",
       "      <th></th>\n",
       "      <th>restaurantName</th>\n",
       "      <th>address</th>\n",
       "      <th>description</th>\n",
       "      <th>website</th>\n",
       "    </tr>\n",
       "  </thead>\n",
       "  <tbody>\n",
       "    <tr>\n",
       "      <th>0</th>\n",
       "      <td>La Corniola</td>\n",
       "      <td>via dei Mastri Lombardi 24</td>\n",
       "      <td>Known throughout Italy for its pillow lace, th...</td>\n",
       "      <td>https://www.lacorniola.com/</td>\n",
       "    </tr>\n",
       "    <tr>\n",
       "      <th>1</th>\n",
       "      <td>Radimare</td>\n",
       "      <td>via Beato Piergiorgio Frassati 5/a</td>\n",
       "      <td>There’s no tasting menu at this restaurant but...</td>\n",
       "      <td>http://www.radimare.com</td>\n",
       "    </tr>\n",
       "    <tr>\n",
       "      <th>2</th>\n",
       "      <td>Gallery Bistrot Contemporaneo</td>\n",
       "      <td>via Regina Margherita 3/b</td>\n",
       "      <td>Modern, tasty and carefully curated cuisine, w...</td>\n",
       "      <td>NaN</td>\n",
       "    </tr>\n",
       "    <tr>\n",
       "      <th>3</th>\n",
       "      <td>Materia | Spazio Cucina</td>\n",
       "      <td>via Teatro Massimo 29</td>\n",
       "      <td>The entrance to this restaurant is typical of ...</td>\n",
       "      <td>https://www.materiaspaziocucina.it/</td>\n",
       "    </tr>\n",
       "    <tr>\n",
       "      <th>4</th>\n",
       "      <td>Sintesi</td>\n",
       "      <td>viale dei Castani 17</td>\n",
       "      <td>A modern, welcoming restaurant whose motto “Tr...</td>\n",
       "      <td>http://ristorantesintesi.it</td>\n",
       "    </tr>\n",
       "    <tr>\n",
       "      <th>5</th>\n",
       "      <td>San Giorgio</td>\n",
       "      <td>viale Brigate Bisagno 69r</td>\n",
       "      <td>Situated in the city albeit not right in the c...</td>\n",
       "      <td>https://www.ristorantesangiorgiogenova.it/</td>\n",
       "    </tr>\n",
       "    <tr>\n",
       "      <th>6</th>\n",
       "      <td>Il Tino</td>\n",
       "      <td>via Monte Cadria 127</td>\n",
       "      <td>Enjoying an attractive location in the Nautilu...</td>\n",
       "      <td>https://www.ristoranteiltino.com/</td>\n",
       "    </tr>\n",
       "    <tr>\n",
       "      <th>7</th>\n",
       "      <td>Winter Garden Florence</td>\n",
       "      <td>piazza Ognissanti 1</td>\n",
       "      <td>Horse-drawn carriages once entered the old cou...</td>\n",
       "      <td>https://www.wintergardenflorence.com/it/</td>\n",
       "    </tr>\n",
       "    <tr>\n",
       "      <th>8</th>\n",
       "      <td>Zum Löwen</td>\n",
       "      <td>via Tirolo 25</td>\n",
       "      <td>A charming restaurant housed in a skilfully re...</td>\n",
       "      <td>NaN</td>\n",
       "    </tr>\n",
       "    <tr>\n",
       "      <th>9</th>\n",
       "      <td>Pipero Roma</td>\n",
       "      <td>corso Vittorio Emanuele II 250</td>\n",
       "      <td>Situated opposite the church of Santa Maria in...</td>\n",
       "      <td>https://www.piperoroma.it/</td>\n",
       "    </tr>\n",
       "  </tbody>\n",
       "</table>\n",
       "</div>"
      ],
      "text/plain": [
       "                  restaurantName                             address  \\\n",
       "0                    La Corniola          via dei Mastri Lombardi 24   \n",
       "1                       Radimare  via Beato Piergiorgio Frassati 5/a   \n",
       "2  Gallery Bistrot Contemporaneo           via Regina Margherita 3/b   \n",
       "3        Materia | Spazio Cucina               via Teatro Massimo 29   \n",
       "4                        Sintesi                viale dei Castani 17   \n",
       "5                    San Giorgio           viale Brigate Bisagno 69r   \n",
       "6                        Il Tino                via Monte Cadria 127   \n",
       "7         Winter Garden Florence                 piazza Ognissanti 1   \n",
       "8                      Zum Löwen                       via Tirolo 25   \n",
       "9                    Pipero Roma      corso Vittorio Emanuele II 250   \n",
       "\n",
       "                                         description  \\\n",
       "0  Known throughout Italy for its pillow lace, th...   \n",
       "1  There’s no tasting menu at this restaurant but...   \n",
       "2  Modern, tasty and carefully curated cuisine, w...   \n",
       "3  The entrance to this restaurant is typical of ...   \n",
       "4  A modern, welcoming restaurant whose motto “Tr...   \n",
       "5  Situated in the city albeit not right in the c...   \n",
       "6  Enjoying an attractive location in the Nautilu...   \n",
       "7  Horse-drawn carriages once entered the old cou...   \n",
       "8  A charming restaurant housed in a skilfully re...   \n",
       "9  Situated opposite the church of Santa Maria in...   \n",
       "\n",
       "                                      website  \n",
       "0                 https://www.lacorniola.com/  \n",
       "1                     http://www.radimare.com  \n",
       "2                                         NaN  \n",
       "3         https://www.materiaspaziocucina.it/  \n",
       "4                 http://ristorantesintesi.it  \n",
       "5  https://www.ristorantesangiorgiogenova.it/  \n",
       "6           https://www.ristoranteiltino.com/  \n",
       "7    https://www.wintergardenflorence.com/it/  \n",
       "8                                         NaN  \n",
       "9                  https://www.piperoroma.it/  "
      ]
     },
     "execution_count": 23,
     "metadata": {},
     "output_type": "execute_result"
    }
   ],
   "source": [
    "output"
   ]
  },
  {
   "cell_type": "markdown",
   "metadata": {},
   "source": [
    "The output is a ranked list of restaurants that best match the query based on their descriptions, cuisine type, facilities, and price range. We can't say it's better or worse than previous results, but what we can say is that the last search engine is more tailored to the consumer."
   ]
  },
  {
   "cell_type": "markdown",
   "metadata": {},
   "source": [
    "# Visualizing the Most Relevant Restaurants\n",
    "\n",
    "# Write some comment HERE to be more visible what we are doing here"
   ]
  },
  {
   "cell_type": "code",
   "execution_count": 38,
   "metadata": {},
   "outputs": [],
   "source": [
    "df_similar = df[df['description'].isin(output['description'])].copy()"
   ]
  },
  {
   "cell_type": "code",
   "execution_count": 39,
   "metadata": {},
   "outputs": [],
   "source": [
    "# Process the data\n",
    "df_geo = vs.geocode_restaurants(df)"
   ]
  },
  {
   "cell_type": "code",
   "execution_count": 40,
   "metadata": {},
   "outputs": [
    {
     "data": {
      "text/html": [
       "<div>\n",
       "<style scoped>\n",
       "    .dataframe tbody tr th:only-of-type {\n",
       "        vertical-align: middle;\n",
       "    }\n",
       "\n",
       "    .dataframe tbody tr th {\n",
       "        vertical-align: top;\n",
       "    }\n",
       "\n",
       "    .dataframe thead th {\n",
       "        text-align: right;\n",
       "    }\n",
       "</style>\n",
       "<table border=\"1\" class=\"dataframe\">\n",
       "  <thead>\n",
       "    <tr style=\"text-align: right;\">\n",
       "      <th></th>\n",
       "      <th>restaurantName</th>\n",
       "      <th>address</th>\n",
       "      <th>city</th>\n",
       "      <th>postalCode</th>\n",
       "      <th>country</th>\n",
       "      <th>priceRange</th>\n",
       "      <th>cuisineType</th>\n",
       "      <th>description</th>\n",
       "      <th>facilitiesServices</th>\n",
       "      <th>creditCards</th>\n",
       "      <th>phoneNumber</th>\n",
       "      <th>website</th>\n",
       "      <th>latitude</th>\n",
       "      <th>longitude</th>\n",
       "      <th>region</th>\n",
       "    </tr>\n",
       "  </thead>\n",
       "  <tbody>\n",
       "    <tr>\n",
       "      <th>0</th>\n",
       "      <td>O Me O Il Mare</td>\n",
       "      <td>Via Roma 45/47</td>\n",
       "      <td>Gragnano</td>\n",
       "      <td>80054</td>\n",
       "      <td>Italy</td>\n",
       "      <td>€€€€</td>\n",
       "      <td>Italian Contemporary, Modern Cuisine</td>\n",
       "      <td>Known around the world as the town of pasta, G...</td>\n",
       "      <td>['Air conditioning', 'Interesting wine list', ...</td>\n",
       "      <td>['Amex', 'Dinersclub', 'Mastercard', 'Visa']</td>\n",
       "      <td>+39 081 620 0550</td>\n",
       "      <td>http://omeoilmare.com</td>\n",
       "      <td>40.6965</td>\n",
       "      <td>14.5137</td>\n",
       "      <td>Campania</td>\n",
       "    </tr>\n",
       "    <tr>\n",
       "      <th>1</th>\n",
       "      <td>Alessandro Feo</td>\n",
       "      <td>via Angelo Lista 24</td>\n",
       "      <td>Centola</td>\n",
       "      <td>84040</td>\n",
       "      <td>Italy</td>\n",
       "      <td>€€</td>\n",
       "      <td>Campanian, Seafood</td>\n",
       "      <td>In a beautiful stone-vaulted building (an old ...</td>\n",
       "      <td>['Air conditioning', 'Terrace', 'Wheelchair ac...</td>\n",
       "      <td>['Amex', 'Dinersclub', 'Discover', 'Maestrocar...</td>\n",
       "      <td>+39 328 893 7083</td>\n",
       "      <td>https://www.alessandrofeoristorante.it/</td>\n",
       "      <td>40.1182</td>\n",
       "      <td>15.347</td>\n",
       "      <td>Campania</td>\n",
       "    </tr>\n",
       "    <tr>\n",
       "      <th>2</th>\n",
       "      <td>Lalibera</td>\n",
       "      <td>via Pertinace 24/a</td>\n",
       "      <td>Alba</td>\n",
       "      <td>12051</td>\n",
       "      <td>Italy</td>\n",
       "      <td>€€</td>\n",
       "      <td>Piedmontese, Traditional Cuisine</td>\n",
       "      <td>A modern, designer-style restaurant staffed by...</td>\n",
       "      <td>['Air conditioning', 'Interesting wine list']</td>\n",
       "      <td>['Amex', 'Mastercard', 'Visa']</td>\n",
       "      <td>+39 0173 293155</td>\n",
       "      <td>https://lalibera.com/</td>\n",
       "      <td>44.6958</td>\n",
       "      <td>8.0293</td>\n",
       "      <td>Piemonte</td>\n",
       "    </tr>\n",
       "    <tr>\n",
       "      <th>3</th>\n",
       "      <td>Brindo</td>\n",
       "      <td>via Libertà 18</td>\n",
       "      <td>Cusago</td>\n",
       "      <td>20047</td>\n",
       "      <td>Italy</td>\n",
       "      <td>€</td>\n",
       "      <td>Lombardian</td>\n",
       "      <td>The service is characterized by a cohesive and...</td>\n",
       "      <td>['Air conditioning']</td>\n",
       "      <td>['Amex', 'Maestrocard', 'Mastercard', 'Visa']</td>\n",
       "      <td>+39 02 9039 4429</td>\n",
       "      <td>https://www.brindo.it</td>\n",
       "      <td>45.4478</td>\n",
       "      <td>9.03451</td>\n",
       "      <td>Lombardia</td>\n",
       "    </tr>\n",
       "    <tr>\n",
       "      <th>4</th>\n",
       "      <td>Edelweiss</td>\n",
       "      <td>Località Crodo</td>\n",
       "      <td>Crodo</td>\n",
       "      <td>28862</td>\n",
       "      <td>Italy</td>\n",
       "      <td>€</td>\n",
       "      <td>Country cooking, Seasonal Cuisine</td>\n",
       "      <td>A real bastion of local cuisine for over 60 ye...</td>\n",
       "      <td>['Car park', 'Garden or park', 'Wheelchair acc...</td>\n",
       "      <td>['Amex', 'Dinersclub', 'Mastercard', 'Visa']</td>\n",
       "      <td>+39 0324 618791</td>\n",
       "      <td>https://www.albergoedelweiss.com/ristorante/</td>\n",
       "      <td>46.2226</td>\n",
       "      <td>8.32061</td>\n",
       "      <td>Piemonte</td>\n",
       "    </tr>\n",
       "  </tbody>\n",
       "</table>\n",
       "</div>"
      ],
      "text/plain": [
       "   restaurantName              address      city postalCode country  \\\n",
       "0  O Me O Il Mare       Via Roma 45/47  Gragnano      80054   Italy   \n",
       "1  Alessandro Feo  via Angelo Lista 24   Centola      84040   Italy   \n",
       "2        Lalibera   via Pertinace 24/a      Alba      12051   Italy   \n",
       "3          Brindo       via Libertà 18    Cusago      20047   Italy   \n",
       "4       Edelweiss       Località Crodo     Crodo      28862   Italy   \n",
       "\n",
       "  priceRange                           cuisineType  \\\n",
       "0       €€€€  Italian Contemporary, Modern Cuisine   \n",
       "1         €€                    Campanian, Seafood   \n",
       "2         €€      Piedmontese, Traditional Cuisine   \n",
       "3          €                            Lombardian   \n",
       "4          €     Country cooking, Seasonal Cuisine   \n",
       "\n",
       "                                         description  \\\n",
       "0  Known around the world as the town of pasta, G...   \n",
       "1  In a beautiful stone-vaulted building (an old ...   \n",
       "2  A modern, designer-style restaurant staffed by...   \n",
       "3  The service is characterized by a cohesive and...   \n",
       "4  A real bastion of local cuisine for over 60 ye...   \n",
       "\n",
       "                                  facilitiesServices  \\\n",
       "0  ['Air conditioning', 'Interesting wine list', ...   \n",
       "1  ['Air conditioning', 'Terrace', 'Wheelchair ac...   \n",
       "2      ['Air conditioning', 'Interesting wine list']   \n",
       "3                               ['Air conditioning']   \n",
       "4  ['Car park', 'Garden or park', 'Wheelchair acc...   \n",
       "\n",
       "                                         creditCards       phoneNumber  \\\n",
       "0       ['Amex', 'Dinersclub', 'Mastercard', 'Visa']  +39 081 620 0550   \n",
       "1  ['Amex', 'Dinersclub', 'Discover', 'Maestrocar...  +39 328 893 7083   \n",
       "2                     ['Amex', 'Mastercard', 'Visa']   +39 0173 293155   \n",
       "3      ['Amex', 'Maestrocard', 'Mastercard', 'Visa']  +39 02 9039 4429   \n",
       "4       ['Amex', 'Dinersclub', 'Mastercard', 'Visa']   +39 0324 618791   \n",
       "\n",
       "                                        website latitude longitude     region  \n",
       "0                         http://omeoilmare.com  40.6965   14.5137   Campania  \n",
       "1       https://www.alessandrofeoristorante.it/  40.1182    15.347   Campania  \n",
       "2                         https://lalibera.com/  44.6958    8.0293   Piemonte  \n",
       "3                         https://www.brindo.it  45.4478   9.03451  Lombardia  \n",
       "4  https://www.albergoedelweiss.com/ristorante/  46.2226   8.32061   Piemonte  "
      ]
     },
     "execution_count": 40,
     "metadata": {},
     "output_type": "execute_result"
    }
   ],
   "source": [
    "df_geo.to_csv(\"RestaurantPlusGeo.csv\",index=False)\n",
    "df_geo.head()"
   ]
  },
  {
   "cell_type": "code",
   "execution_count": 41,
   "metadata": {},
   "outputs": [
    {
     "name": "stdout",
     "output_type": "stream",
     "text": [
      "Lat null: 3 \n",
      "Long null: 3\n"
     ]
    }
   ],
   "source": [
    "# I remove the restaurants for which I cannot retrieve the latitude and longitude.\n",
    "df_geo = pd.read_csv('RestaurantPlusGeo.csv')\n",
    "print(f\"Lat null: {df_geo['latitude'].isnull().sum()} \\nLong null: {df_geo['longitude'].isnull().sum()}\")\n",
    "df_geo = df_geo.dropna(subset=['latitude', 'longitude'])"
   ]
  },
  {
   "cell_type": "code",
   "execution_count": 42,
   "metadata": {},
   "outputs": [
    {
     "data": {
      "text/plain": [
       "True"
      ]
     },
     "execution_count": 42,
     "metadata": {},
     "output_type": "execute_result"
    }
   ],
   "source": [
    "# Here we are creating a map that represents the location of all the restaurants listed in the dataset, saving it as an HTML file, and opening it to display to the user.\n",
    "map = folium.Map(location=[41.9028, 12.4964], zoom_start=6)\n",
    "\n",
    "for index, row in df_geo.iterrows():\n",
    "    folium.Marker(\n",
    "        location=[row['latitude'], row['longitude']],\n",
    "        popup=f\"{row['restaurantName']}<br>{row['address']}<br>{row['city']}<br>{row['region']}\",\n",
    "        tooltip=row['restaurantName']\n",
    "    ).add_to(map)\n",
    "\n",
    "map.fit_bounds([[35.5, 6.6], [47.1, 18.8]])\n",
    "file_path = 'restaurant_map.html'\n",
    "map.save(file_path)\n",
    "webbrowser.open('file://' + os.path.realpath(file_path))\n"
   ]
  },
  {
   "cell_type": "code",
   "execution_count": 52,
   "metadata": {},
   "outputs": [
    {
     "data": {
      "text/plain": [
       "'0.13.2'"
      ]
     },
     "execution_count": 52,
     "metadata": {},
     "output_type": "execute_result"
    }
   ],
   "source": [
    "gpd.__version__"
   ]
  },
  {
   "cell_type": "code",
   "execution_count": 57,
   "metadata": {},
   "outputs": [
    {
     "ename": "AttributeError",
     "evalue": "module 'fiona' has no attribute 'path'",
     "output_type": "error",
     "traceback": [
      "\u001b[1;31m---------------------------------------------------------------------------\u001b[0m",
      "\u001b[1;31mAttributeError\u001b[0m                            Traceback (most recent call last)",
      "\u001b[1;32m<ipython-input-57-3356bbbe3d2a>\u001b[0m in \u001b[0;36m<module>\u001b[1;34m\u001b[0m\n\u001b[0;32m     10\u001b[0m \u001b[1;33m\u001b[0m\u001b[0m\n\u001b[0;32m     11\u001b[0m \u001b[1;31m# For the representation: A folder was downloaded from the INPS website to define the regional boundaries.\u001b[0m\u001b[1;33m\u001b[0m\u001b[1;33m\u001b[0m\u001b[1;33m\u001b[0m\u001b[0m\n\u001b[1;32m---> 12\u001b[1;33m \u001b[0mregioni\u001b[0m \u001b[1;33m=\u001b[0m \u001b[0mgpd\u001b[0m\u001b[1;33m.\u001b[0m\u001b[0mread_file\u001b[0m\u001b[1;33m(\u001b[0m\u001b[1;34m'Reg01012024/Reg01012024_WGS84.shp'\u001b[0m\u001b[1;33m)\u001b[0m\u001b[1;33m\u001b[0m\u001b[1;33m\u001b[0m\u001b[0m\n\u001b[0m\u001b[0;32m     13\u001b[0m \u001b[1;33m\u001b[0m\u001b[0m\n\u001b[0;32m     14\u001b[0m \u001b[0mregioni\u001b[0m \u001b[1;33m=\u001b[0m \u001b[0mregioni\u001b[0m\u001b[1;33m.\u001b[0m\u001b[0mmerge\u001b[0m\u001b[1;33m(\u001b[0m\u001b[0mavg_price_by_region\u001b[0m\u001b[1;33m,\u001b[0m \u001b[0mleft_on\u001b[0m\u001b[1;33m=\u001b[0m\u001b[1;34m'DEN_REG'\u001b[0m\u001b[1;33m,\u001b[0m \u001b[0mright_on\u001b[0m\u001b[1;33m=\u001b[0m\u001b[1;34m'region'\u001b[0m\u001b[1;33m)\u001b[0m\u001b[1;33m\u001b[0m\u001b[1;33m\u001b[0m\u001b[0m\n",
      "\u001b[1;32mc:\\Users\\User\\anaconda3\\lib\\site-packages\\geopandas\\io\\file.py\u001b[0m in \u001b[0;36m_read_file\u001b[1;34m(filename, bbox, mask, rows, engine, **kwargs)\u001b[0m\n\u001b[0;32m    279\u001b[0m             \u001b[0mpath_or_bytes\u001b[0m \u001b[1;33m=\u001b[0m \u001b[0mfilename\u001b[0m\u001b[1;33m\u001b[0m\u001b[1;33m\u001b[0m\u001b[0m\n\u001b[0;32m    280\u001b[0m \u001b[1;33m\u001b[0m\u001b[0m\n\u001b[1;32m--> 281\u001b[1;33m         return _read_file_fiona(\n\u001b[0m\u001b[0;32m    282\u001b[0m             \u001b[0mpath_or_bytes\u001b[0m\u001b[1;33m,\u001b[0m \u001b[0mfrom_bytes\u001b[0m\u001b[1;33m,\u001b[0m \u001b[0mbbox\u001b[0m\u001b[1;33m=\u001b[0m\u001b[0mbbox\u001b[0m\u001b[1;33m,\u001b[0m \u001b[0mmask\u001b[0m\u001b[1;33m=\u001b[0m\u001b[0mmask\u001b[0m\u001b[1;33m,\u001b[0m \u001b[0mrows\u001b[0m\u001b[1;33m=\u001b[0m\u001b[0mrows\u001b[0m\u001b[1;33m,\u001b[0m \u001b[1;33m**\u001b[0m\u001b[0mkwargs\u001b[0m\u001b[1;33m\u001b[0m\u001b[1;33m\u001b[0m\u001b[0m\n\u001b[0;32m    283\u001b[0m         )\n",
      "\u001b[1;32mc:\\Users\\User\\anaconda3\\lib\\site-packages\\geopandas\\io\\file.py\u001b[0m in \u001b[0;36m_read_file_fiona\u001b[1;34m(path_or_bytes, from_bytes, bbox, mask, rows, where, **kwargs)\u001b[0m\n\u001b[0;32m    297\u001b[0m         \u001b[1;31m# zipped file. In order to match that behavior, attempt to add a zip scheme\u001b[0m\u001b[1;33m\u001b[0m\u001b[1;33m\u001b[0m\u001b[1;33m\u001b[0m\u001b[0m\n\u001b[0;32m    298\u001b[0m         \u001b[1;31m# if missing.\u001b[0m\u001b[1;33m\u001b[0m\u001b[1;33m\u001b[0m\u001b[1;33m\u001b[0m\u001b[0m\n\u001b[1;32m--> 299\u001b[1;33m         \u001b[1;32mif\u001b[0m \u001b[0m_is_zip\u001b[0m\u001b[1;33m(\u001b[0m\u001b[0mstr\u001b[0m\u001b[1;33m(\u001b[0m\u001b[0mpath_or_bytes\u001b[0m\u001b[1;33m)\u001b[0m\u001b[1;33m)\u001b[0m\u001b[1;33m:\u001b[0m\u001b[1;33m\u001b[0m\u001b[1;33m\u001b[0m\u001b[0m\n\u001b[0m\u001b[0;32m    300\u001b[0m             \u001b[0mparsed\u001b[0m \u001b[1;33m=\u001b[0m \u001b[0mfiona\u001b[0m\u001b[1;33m.\u001b[0m\u001b[0mparse_path\u001b[0m\u001b[1;33m(\u001b[0m\u001b[0mstr\u001b[0m\u001b[1;33m(\u001b[0m\u001b[0mpath_or_bytes\u001b[0m\u001b[1;33m)\u001b[0m\u001b[1;33m)\u001b[0m\u001b[1;33m\u001b[0m\u001b[1;33m\u001b[0m\u001b[0m\n\u001b[0;32m    301\u001b[0m             \u001b[1;32mif\u001b[0m \u001b[0misinstance\u001b[0m\u001b[1;33m(\u001b[0m\u001b[0mparsed\u001b[0m\u001b[1;33m,\u001b[0m \u001b[0mfiona\u001b[0m\u001b[1;33m.\u001b[0m\u001b[0mpath\u001b[0m\u001b[1;33m.\u001b[0m\u001b[0mParsedPath\u001b[0m\u001b[1;33m)\u001b[0m\u001b[1;33m:\u001b[0m\u001b[1;33m\u001b[0m\u001b[1;33m\u001b[0m\u001b[0m\n",
      "\u001b[1;32mc:\\Users\\User\\anaconda3\\lib\\site-packages\\geopandas\\io\\file.py\u001b[0m in \u001b[0;36m_is_zip\u001b[1;34m(path)\u001b[0m\n\u001b[0;32m    164\u001b[0m \u001b[1;32mdef\u001b[0m \u001b[0m_is_zip\u001b[0m\u001b[1;33m(\u001b[0m\u001b[0mpath\u001b[0m\u001b[1;33m)\u001b[0m\u001b[1;33m:\u001b[0m\u001b[1;33m\u001b[0m\u001b[1;33m\u001b[0m\u001b[0m\n\u001b[0;32m    165\u001b[0m     \u001b[1;34m\"\"\"Check if a given path is a zipfile\"\"\"\u001b[0m\u001b[1;33m\u001b[0m\u001b[1;33m\u001b[0m\u001b[0m\n\u001b[1;32m--> 166\u001b[1;33m     \u001b[0mparsed\u001b[0m \u001b[1;33m=\u001b[0m \u001b[0mfiona\u001b[0m\u001b[1;33m.\u001b[0m\u001b[0mpath\u001b[0m\u001b[1;33m.\u001b[0m\u001b[0mParsedPath\u001b[0m\u001b[1;33m.\u001b[0m\u001b[0mfrom_uri\u001b[0m\u001b[1;33m(\u001b[0m\u001b[0mpath\u001b[0m\u001b[1;33m)\u001b[0m\u001b[1;33m\u001b[0m\u001b[1;33m\u001b[0m\u001b[0m\n\u001b[0m\u001b[0;32m    167\u001b[0m     return (\n\u001b[0;32m    168\u001b[0m         \u001b[0mparsed\u001b[0m\u001b[1;33m.\u001b[0m\u001b[0marchive\u001b[0m\u001b[1;33m.\u001b[0m\u001b[0mendswith\u001b[0m\u001b[1;33m(\u001b[0m\u001b[1;34m\".zip\"\u001b[0m\u001b[1;33m)\u001b[0m\u001b[1;33m\u001b[0m\u001b[1;33m\u001b[0m\u001b[0m\n",
      "\u001b[1;31mAttributeError\u001b[0m: module 'fiona' has no attribute 'path'"
     ]
    }
   ],
   "source": [
    "# We represent the Italian regions with a red scale indicating the average cost of restaurants per region.\n",
    "\n",
    "#from branca.element import Template, MacroElement\n",
    "\n",
    "mapping_price = {'€': 1, '€€': 2, '€€€': 3, '€€€€': 4}\n",
    "df_geo['price_numeric'] = df_geo['priceRange'].map(mapping_price)\n",
    "\n",
    "# mean price for region\n",
    "avg_price_by_region = df_geo.groupby('region')['price_numeric'].mean().reset_index()\n",
    "\n",
    "# For the representation: A folder was downloaded from the INPS website to define the regional boundaries.\n",
    "regioni = gpd.read_file('Reg01012024/Reg01012024_WGS84.shp') \n",
    "\n",
    "regioni = regioni.merge(avg_price_by_region, left_on='DEN_REG', right_on='region')\n",
    "\n",
    "# Create map on Italy\n",
    "mappa = folium.Map(location=[41.9028, 12.4964], zoom_start=6)\n",
    "\n",
    "# Add the choropleth layer\n",
    "folium.Choropleth(\n",
    "    geo_data=regioni,\n",
    "    name='choropleth',\n",
    "    data=regioni,\n",
    "    columns=['DEN_REG', 'price_numeric'],\n",
    "    key_on='feature.properties.DEN_REG',\n",
    "    fill_color='Reds',\n",
    "    fill_opacity=1,\n",
    "    line_opacity=0.2,\n",
    "    legend_name=None \n",
    ").add_to(mappa)\n",
    "\n",
    "# Personalized Legend\n",
    "legend_html = '''\n",
    "<div style=\"\n",
    "    position: fixed; \n",
    "    top: 15px; right: 10px; \n",
    "    width: 430px; height: 93px; \n",
    "    background-color: white;\n",
    "    border: 2px solid grey; \n",
    "    box-shadow: 2px 2px 6px rgba(0, 0, 0, 0.3);\n",
    "    z-index:9999; \n",
    "    font-size:14px;\n",
    "    padding: 10px;\n",
    "    border-radius: 8px;\n",
    "\">\n",
    "    <h4 style=\"margin:0; text-align:center; font-size:18px; font-family: Arial, sans-serif;\">Price Restaurant</h4>\n",
    "    <div style=\"margin-top: 8px;\">\n",
    "        <div style=\"background:linear-gradient(to right, #fee5d9, #fcae91, #fb6a4a, #cb181d); height: 20px; border-radius: 5px;\"></div>\n",
    "        <div style=\"display: flex; justify-content: space-between; font-size: 14px; margin-top: 5px; font-family: Arial, sans-serif;\">\n",
    "            <span>€</span>\n",
    "            <span>€€€€</span>\n",
    "        </div>\n",
    "    </div>\n",
    "</div>\n",
    "'''\n",
    "mappa.get_root().html.add_child(folium.Element(legend_html))\n",
    "\n",
    "# Save and open the map\n",
    "file_path = 'map_price_for_region.html'\n",
    "mappa.save(file_path)\n",
    "webbrowser.open('file://' + os.path.realpath(file_path))\n"
   ]
  },
  {
   "cell_type": "code",
   "execution_count": 50,
   "metadata": {},
   "outputs": [
    {
     "data": {
      "text/plain": [
       "True"
      ]
     },
     "execution_count": 50,
     "metadata": {},
     "output_type": "execute_result"
    }
   ],
   "source": [
    "#Wanna visualize only first K restaurant by score obtained in RQ3\n",
    "df_geo_sorted = df_geo.loc[df_similar.index,:] \n",
    "map = folium.Map(location=[41.9028, 12.4964], zoom_start=6)\n",
    "\n",
    "for index, row in df_geo_sorted.iterrows():\n",
    "    folium.Marker(\n",
    "        location=[row['latitude'], row['longitude']],\n",
    "        popup=f\"{row['restaurantName']}<br>{row['address']}<br>{row['city']}<br>{row['region']}\",\n",
    "        tooltip=row['restaurantName']\n",
    "    ).add_to(map)\n",
    "\n",
    "map.fit_bounds([[35.5, 6.6], [47.1, 18.8]])\n",
    "file_path = 'Top_restaurant_map.html'\n",
    "map.save(file_path)\n",
    "webbrowser.open('file://' + os.path.realpath(file_path))\n"
   ]
  },
  {
   "cell_type": "markdown",
   "metadata": {},
   "source": [
    "# Advanced Search Engine"
   ]
  },
  {
   "cell_type": "markdown",
   "metadata": {},
   "source": [
    "# WRITE COMMENTS in the Code"
   ]
  },
  {
   "cell_type": "markdown",
   "metadata": {},
   "source": [
    "The following cell defines the **`UserInputInterface`** class, designed to create an interactive user interface using **ipywidgets**. The goal is to allow users to specify advanced search criteria for restaurants.\n",
    "\n",
    "Users can specify search terms for the following features (some or all):\n",
    "- **restaurantName**\n",
    "- **city**\n",
    "- **cuisineType**\n",
    "\n",
    "The other tabs are for filtering by:\n",
    "- **price range**\n",
    "- **Region**\n",
    "- **Accepted credit cards**\n",
    "- **Offered services**"
   ]
  },
  {
   "cell_type": "code",
   "execution_count": 32,
   "metadata": {},
   "outputs": [],
   "source": [
    "class UserInputInterface:\n",
    "    def __init__(self):\n",
    "\n",
    "        layout_with_description = widgets.Layout(width='50%')\n",
    "        label_layout = widgets.Layout(description_width='150px')\n",
    "        \n",
    "        self.restaurant_name = widgets.Text(placeholder='Name of restaurant', description='Restaurant:')\n",
    "        self.city = widgets.Text(placeholder='City', description='City:')\n",
    "        self.cuisine_type = widgets.Text(placeholder='Cucine type', description='Cucine:')\n",
    "\n",
    "        price_options = {\n",
    "            '€': 1,\n",
    "            '€€': 2,\n",
    "            '€€€': 3,\n",
    "            '€€€€': 4\n",
    "        }\n",
    "\n",
    "        self.price_range = widgets.SelectionRangeSlider(\n",
    "            options=list(price_options.keys()),\n",
    "            index=(0, 3),\n",
    "            description='Price:',\n",
    "            continuous_update=False\n",
    "        )\n",
    "\n",
    "        self.regions = widgets.SelectMultiple(\n",
    "            options=['Abruzzo', 'Basilicata', 'Calabria', 'Campania', 'Emilia-Romagna', \n",
    "                     'Friuli Venezia Giulia', 'Lazio', 'Liguria', 'Lombardia', 'Marche', \n",
    "                     'Molise', 'Piemonte', 'Puglia', 'Sardegna', 'Sicilia', 'Toscana', \n",
    "                     'Trentino-Alto Adige', 'Umbria', 'Valle d\\'Aosta', 'Veneto'],\n",
    "            description='Region:',\n",
    "            rows=7\n",
    "        )\n",
    "\n",
    "        credit_card_options = ['Amex', 'Dinersclub', 'Mastercard', 'Visa', 'Discover', 'JCB', 'Unionpay', 'Maestro', 'CartaSi']\n",
    "        self.credit_card_checkboxes = [widgets.Checkbox(value=False, description=card) for card in credit_card_options]\n",
    "\n",
    "        self.credit_cards_grid = widgets.GridBox(\n",
    "            children=self.credit_card_checkboxes,\n",
    "            layout=widgets.Layout(grid_template_columns=\"repeat(3, 1fr)\", gap=\"10px\")\n",
    "        )\n",
    "\n",
    "        self.facilities = widgets.SelectMultiple(\n",
    "            options=['Air conditioning', 'Interesting wine list', 'Wheelchair access', 'Terrace', 'Counter dining',\n",
    "                     'Great view', 'Garden or park', 'Car park', 'Restaurant offering vegetarian menus', 'Brunch','Valet parking'],\n",
    "            description='Services:',\n",
    "            rows=11,\n",
    "            layout=widgets.Layout(width='400px')\n",
    "        )\n",
    "\n",
    "        self.output = widgets.Output()\n",
    "        self.search_button = widgets.Button(description=\"Start Search\")\n",
    "        self.search_button.on_click(self.on_search_button_clicked)\n",
    "    \n",
    "    def display(self):\n",
    "        tab = widgets.Tab()\n",
    "        tab_contents = [\n",
    "            widgets.VBox([self.restaurant_name, self.city, self.cuisine_type]),\n",
    "            widgets.VBox([self.price_range]),\n",
    "            widgets.VBox([self.regions]),\n",
    "            widgets.VBox([self.credit_cards_grid]),\n",
    "            widgets.VBox([self.facilities])\n",
    "        ]\n",
    "        tab.children = tab_contents\n",
    "        tab.set_title(0, 'General Criteria')\n",
    "        tab.set_title(1, 'Price')\n",
    "        tab.set_title(2, 'Region')\n",
    "        tab.set_title(3, 'Accepted Cards')\n",
    "        tab.set_title(4, 'Offered Services')\n",
    "\n",
    "        display(tab, self.search_button, self.output)\n",
    "\n",
    "    def get_values(self):\n",
    "        return {\n",
    "            'restaurantName': self.restaurant_name.value,\n",
    "            'city': self.city.value,\n",
    "            'cuisineType': self.cuisine_type.value,\n",
    "            'priceRange': self.price_range.value,\n",
    "            'regions': list(self.regions.value),\n",
    "            'creditCards': [checkbox.description for checkbox in self.credit_card_checkboxes if checkbox.value],\n",
    "            'facilities': list(self.facilities.value)\n",
    "        }\n",
    "\n",
    "    def on_search_button_clicked(self, b):\n",
    "        with self.output:\n",
    "            self.output.clear_output()\n",
    "            values = self.get_values()\n",
    "            print(\"Collected Values:\")\n",
    "            for key, value in values.items():\n",
    "                print(f\"{key}: {value}\")"
   ]
  },
  {
   "cell_type": "markdown",
   "metadata": {},
   "source": [
    "The following cell performs **pre-processing** on the restaurant dataset:\n",
    "\n",
    "- **Stopwords**: Defines and combines Italian and English stopwords.\n",
    "- **Cleaning Functions**:\n",
    "  - **`clean_text_with_stopwords`**: Cleans text by removing stopwords and special characters.\n",
    "  - **`clean_text_basic`**: Cleans text while keeping all words (used for the `city` field).\n",
    "- **Cleaning Application**:\n",
    "  - Creates normalized (`_clean`) versions of the `restaurantName`, `cuisineType`, and `city` fields.\n",
    "- **Decoding**: Converts `facilitiesServices` and `creditCards` fields into Python lists.\n",
    "- **Output**: Displays a preview of the pre-processed DataFrame.\n"
   ]
  },
  {
   "cell_type": "code",
   "execution_count": 33,
   "metadata": {},
   "outputs": [
    {
     "name": "stdout",
     "output_type": "stream",
     "text": [
      "Pre_processed data:\n"
     ]
    },
    {
     "data": {
      "text/html": [
       "<div>\n",
       "<style scoped>\n",
       "    .dataframe tbody tr th:only-of-type {\n",
       "        vertical-align: middle;\n",
       "    }\n",
       "\n",
       "    .dataframe tbody tr th {\n",
       "        vertical-align: top;\n",
       "    }\n",
       "\n",
       "    .dataframe thead th {\n",
       "        text-align: right;\n",
       "    }\n",
       "</style>\n",
       "<table border=\"1\" class=\"dataframe\">\n",
       "  <thead>\n",
       "    <tr style=\"text-align: right;\">\n",
       "      <th></th>\n",
       "      <th>restaurantName</th>\n",
       "      <th>restaurantName_clean</th>\n",
       "      <th>city</th>\n",
       "      <th>city_clean</th>\n",
       "      <th>cuisineType</th>\n",
       "      <th>cuisineType_clean</th>\n",
       "      <th>facilitiesServices</th>\n",
       "      <th>facilitiesServices_clean</th>\n",
       "      <th>creditCards</th>\n",
       "      <th>creditCards_clean</th>\n",
       "      <th>priceRange</th>\n",
       "      <th>region</th>\n",
       "    </tr>\n",
       "  </thead>\n",
       "  <tbody>\n",
       "    <tr>\n",
       "      <th>0</th>\n",
       "      <td>La Corniola</td>\n",
       "      <td>corniola</td>\n",
       "      <td>Pescocostanzo</td>\n",
       "      <td>pescocostanzo</td>\n",
       "      <td>Modern Cuisine, Cuisine from Abruzzo</td>\n",
       "      <td>modern cuisine cuisine abruzzo</td>\n",
       "      <td>['Wheelchair access']</td>\n",
       "      <td>[Wheelchair access]</td>\n",
       "      <td>['Amex', 'Mastercard', 'Visa']</td>\n",
       "      <td>[Amex, Mastercard, Visa]</td>\n",
       "      <td>€€</td>\n",
       "      <td>Abruzzo</td>\n",
       "    </tr>\n",
       "    <tr>\n",
       "      <th>1</th>\n",
       "      <td>Materia | Spazio Cucina</td>\n",
       "      <td>materia spazio cucina</td>\n",
       "      <td>Catania</td>\n",
       "      <td>catania</td>\n",
       "      <td>Sicilian, Modern Cuisine</td>\n",
       "      <td>sicilian modern cuisine</td>\n",
       "      <td>['Air conditioning', 'Restaurant offering vege...</td>\n",
       "      <td>[Air conditioning, Restaurant offering vegetar...</td>\n",
       "      <td>['Amex', 'Dinersclub', 'Mastercard', 'Visa']</td>\n",
       "      <td>[Amex, Dinersclub, Mastercard, Visa]</td>\n",
       "      <td>€€</td>\n",
       "      <td>Sicilia</td>\n",
       "    </tr>\n",
       "    <tr>\n",
       "      <th>2</th>\n",
       "      <td>Gallery Bistrot Contemporaneo</td>\n",
       "      <td>gallery bistrot contemporaneo</td>\n",
       "      <td>Troia</td>\n",
       "      <td>troia</td>\n",
       "      <td>Modern Cuisine, Creative</td>\n",
       "      <td>modern cuisine creative</td>\n",
       "      <td>['Air conditioning']</td>\n",
       "      <td>[Air conditioning]</td>\n",
       "      <td>['Mastercard', 'Visa']</td>\n",
       "      <td>[Mastercard, Visa]</td>\n",
       "      <td>€€</td>\n",
       "      <td>Puglia</td>\n",
       "    </tr>\n",
       "    <tr>\n",
       "      <th>3</th>\n",
       "      <td>Sintesi</td>\n",
       "      <td>sintesi</td>\n",
       "      <td>Ariccia</td>\n",
       "      <td>ariccia</td>\n",
       "      <td>Contemporary, Seasonal Cuisine</td>\n",
       "      <td>contemporary seasonal cuisine</td>\n",
       "      <td>['Air conditioning', 'Car park']</td>\n",
       "      <td>[Air conditioning, Car park]</td>\n",
       "      <td>['Amex', 'Dinersclub', 'Mastercard', 'Visa']</td>\n",
       "      <td>[Amex, Dinersclub, Mastercard, Visa]</td>\n",
       "      <td>€€€</td>\n",
       "      <td>Lazio</td>\n",
       "    </tr>\n",
       "    <tr>\n",
       "      <th>4</th>\n",
       "      <td>Radimare</td>\n",
       "      <td>radimare</td>\n",
       "      <td>Monopoli</td>\n",
       "      <td>monopoli</td>\n",
       "      <td>Modern Cuisine, Mediterranean Cuisine</td>\n",
       "      <td>modern cuisine mediterranean cuisine</td>\n",
       "      <td>['Air conditioning', 'Wheelchair access']</td>\n",
       "      <td>[Air conditioning, Wheelchair access]</td>\n",
       "      <td>['Dinersclub', 'Mastercard', 'Visa']</td>\n",
       "      <td>[Dinersclub, Mastercard, Visa]</td>\n",
       "      <td>€€</td>\n",
       "      <td>Puglia</td>\n",
       "    </tr>\n",
       "  </tbody>\n",
       "</table>\n",
       "</div>"
      ],
      "text/plain": [
       "                  restaurantName           restaurantName_clean  \\\n",
       "0                    La Corniola                       corniola   \n",
       "1        Materia | Spazio Cucina          materia spazio cucina   \n",
       "2  Gallery Bistrot Contemporaneo  gallery bistrot contemporaneo   \n",
       "3                        Sintesi                        sintesi   \n",
       "4                       Radimare                       radimare   \n",
       "\n",
       "            city     city_clean                            cuisineType  \\\n",
       "0  Pescocostanzo  pescocostanzo   Modern Cuisine, Cuisine from Abruzzo   \n",
       "1        Catania        catania               Sicilian, Modern Cuisine   \n",
       "2          Troia          troia               Modern Cuisine, Creative   \n",
       "3        Ariccia        ariccia         Contemporary, Seasonal Cuisine   \n",
       "4       Monopoli       monopoli  Modern Cuisine, Mediterranean Cuisine   \n",
       "\n",
       "                      cuisineType_clean  \\\n",
       "0        modern cuisine cuisine abruzzo   \n",
       "1               sicilian modern cuisine   \n",
       "2               modern cuisine creative   \n",
       "3         contemporary seasonal cuisine   \n",
       "4  modern cuisine mediterranean cuisine   \n",
       "\n",
       "                                  facilitiesServices  \\\n",
       "0                              ['Wheelchair access']   \n",
       "1  ['Air conditioning', 'Restaurant offering vege...   \n",
       "2                               ['Air conditioning']   \n",
       "3                   ['Air conditioning', 'Car park']   \n",
       "4          ['Air conditioning', 'Wheelchair access']   \n",
       "\n",
       "                            facilitiesServices_clean  \\\n",
       "0                                [Wheelchair access]   \n",
       "1  [Air conditioning, Restaurant offering vegetar...   \n",
       "2                                 [Air conditioning]   \n",
       "3                       [Air conditioning, Car park]   \n",
       "4              [Air conditioning, Wheelchair access]   \n",
       "\n",
       "                                    creditCards  \\\n",
       "0                ['Amex', 'Mastercard', 'Visa']   \n",
       "1  ['Amex', 'Dinersclub', 'Mastercard', 'Visa']   \n",
       "2                        ['Mastercard', 'Visa']   \n",
       "3  ['Amex', 'Dinersclub', 'Mastercard', 'Visa']   \n",
       "4          ['Dinersclub', 'Mastercard', 'Visa']   \n",
       "\n",
       "                      creditCards_clean priceRange   region  \n",
       "0              [Amex, Mastercard, Visa]         €€  Abruzzo  \n",
       "1  [Amex, Dinersclub, Mastercard, Visa]         €€  Sicilia  \n",
       "2                    [Mastercard, Visa]         €€   Puglia  \n",
       "3  [Amex, Dinersclub, Mastercard, Visa]        €€€    Lazio  \n",
       "4        [Dinersclub, Mastercard, Visa]         €€   Puglia  "
      ]
     },
     "metadata": {},
     "output_type": "display_data"
    }
   ],
   "source": [
    "# Italian and English stopwords\n",
    "stopwords_italian = set([\n",
    "    'il', 'lo', 'la', 'i', 'gli', 'le', 'un', 'una', 'del', 'della', 'dello',\n",
    "    'dei', 'di', 'a', 'ai', 'al', 'allo', 'alle', 'degli', 'd', 'da', 'dal',\n",
    "    'dallo', 'in', 'nel', 'nello', 'su', 'sul', 'sullo', 'con', 'per', 'tra',\n",
    "    'fra', 'e'\n",
    "])\n",
    "stopwords_english = set(stopwords.words('english'))\n",
    "stopwords_combined = stopwords_italian.union(stopwords_english)\n",
    "\n",
    "# Removing stopwords\n",
    "def clean_text_with_stopwords(text):\n",
    "    if pd.isna(text):\n",
    "        return ''\n",
    "    text = text.lower().strip()\n",
    "    text = re.sub(r\"[^\\w\\s']\", '', text) \n",
    "    words = text.split()\n",
    "    words = [word for word in words if word not in stopwords_combined]  \n",
    "    return ' '.join(words)\n",
    "\n",
    "# Basic clean without removing stopwords\n",
    "def clean_text_basic(text):\n",
    "    if pd.isna(text):\n",
    "        return ''\n",
    "    return text.strip().lower()\n",
    "\n",
    "df_geo.loc[:,'restaurantName_clean'] = df_geo['restaurantName'].apply(clean_text_with_stopwords)\n",
    "df_geo.loc[:,'cuisineType_clean'] = df_geo['cuisineType'].apply(clean_text_with_stopwords)\n",
    "# For the city field, we do not remove stopwords but apply basic cleaning, as removing them could affect the meaning of the city name.\n",
    "df_geo.loc[:,'city_clean'] = df_geo['city'].apply(clean_text_basic)\n",
    "\n",
    "df_geo.loc[:,'facilitiesServices_clean'] = df_geo['facilitiesServices'].apply(lambda x: eval(x) if pd.notna(x) else [])\n",
    "df_geo.loc[:,'creditCards_clean'] = df_geo['creditCards'].apply(lambda x: eval(x) if pd.notna(x) else [])\n",
    "\n",
    "print(\"Pre_processed data:\")\n",
    "display(df_geo[['restaurantName','restaurantName_clean', 'city','city_clean', 'cuisineType','cuisineType_clean', 'facilitiesServices','facilitiesServices_clean', 'creditCards','creditCards_clean','priceRange','region']].head())\n"
   ]
  },
  {
   "cell_type": "code",
   "execution_count": 34,
   "metadata": {},
   "outputs": [],
   "source": [
    "# Function to create an inverted index for a specific field\n",
    "def build_inverted_index(df, column):\n",
    "    inverted_index = defaultdict(set)  \n",
    "    for idx, value in df[column].items():\n",
    "        terms = value.split() \n",
    "        for term in terms:\n",
    "            inverted_index[term].add(idx) \n",
    "    return inverted_index\n",
    "\n",
    "# Creation of inverted indices\n",
    "restaurant_name_index = build_inverted_index(df_geo, 'restaurantName_clean')\n",
    "city_index = build_inverted_index(df_geo, 'city_clean')\n",
    "cuisine_type_index = build_inverted_index(df_geo, 'cuisineType_clean')"
   ]
  },
  {
   "cell_type": "markdown",
   "metadata": {},
   "source": [
    "The following cell implements the **advanced search**:\n",
    "\n",
    "- **`search_inverted_indices`**:\n",
    "  - Searches indexed fields for terms provided by the user.\n",
    "  - Calculates a score for each result based on term matches.\n",
    "\n",
    "- **`advanced_search_with_filters`**:\n",
    "  - Applies the same cleaning process to both user input and indexed fields.\n",
    "  - Filters raw results using additional criteria: **price range**, **accepted credit cards**, and **offered services**.\n",
    "  - Sorts and returns the most relevant results.\n"
   ]
  },
  {
   "cell_type": "code",
   "execution_count": 35,
   "metadata": {},
   "outputs": [],
   "source": [
    "# Function to search within indexed fields and calculate scores\n",
    "def search_inverted_indices(query, indices):\n",
    "    results = defaultdict(int) \n",
    "\n",
    "    for field, terms in query.items():\n",
    "        if field not in indices:\n",
    "            continue\n",
    "        for term in terms.split(): \n",
    "            if term in indices[field]:\n",
    "                for idx in indices[field][term]:\n",
    "                    results[idx] += 1 \n",
    "    \n",
    "    return results\n",
    "\n",
    "def advanced_search_with_filters(user_input, indices, df, top_n=10):\n",
    "    price_order = {\n",
    "        '€': 1,\n",
    "        '€€': 2,\n",
    "        '€€€': 3,\n",
    "        '€€€€': 4\n",
    "    }\n",
    "\n",
    "    # Apply the same cleaning process used for specific fields in the dataset to the user input as well.\n",
    "    query = {\n",
    "        'restaurantName_clean': clean_text_with_stopwords(user_input['restaurantName']),\n",
    "        'city_clean': clean_text_with_stopwords(user_input['city']),\n",
    "        'cuisineType_clean': clean_text_with_stopwords(user_input['cuisineType'])\n",
    "    }\n",
    "\n",
    "    raw_results = search_inverted_indices(query, indices)\n",
    "\n",
    "    # Filter the results based on additional criteria such as price, region, accepted credit cards, and offered services.\n",
    "    filtered_results = []\n",
    "    for idx, score in raw_results.items():\n",
    "        row = df.loc[idx]\n",
    "\n",
    "        # Price filter\n",
    "        if not (price_order[row['priceRange']] >= price_order[user_input['priceRange'][0]] and\n",
    "                price_order[row['priceRange']] <= price_order[user_input['priceRange'][1]]):\n",
    "            continue\n",
    "\n",
    "        # Cards Filter\n",
    "        if not all(card in row['creditCards_clean'] for card in user_input['creditCards']):\n",
    "            continue\n",
    "\n",
    "        # Services Filter\n",
    "        if not all(facility in row['facilitiesServices_clean'] for facility in user_input['facilities']):\n",
    "            continue\n",
    "\n",
    "        # Region Filter\n",
    "        if user_input['regions'] and row['region'] not in user_input['regions']:\n",
    "            continue\n",
    "        \n",
    "        \n",
    "        filtered_results.append((idx, score))\n",
    "\n",
    "    sorted_results = sorted(filtered_results, key=lambda x: x[1], reverse=True)\n",
    "    top_results = df.loc[[r[0] for r in sorted_results[:top_n]]]\n",
    "\n",
    "    return top_results[['restaurantName', 'address', 'cuisineType', 'priceRange', 'website']]\n"
   ]
  },
  {
   "cell_type": "code",
   "execution_count": 36,
   "metadata": {},
   "outputs": [
    {
     "data": {
      "application/vnd.jupyter.widget-view+json": {
       "model_id": "d4dc45e686a74520b2fd8cfb4a186062",
       "version_major": 2,
       "version_minor": 0
      },
      "text/plain": [
       "Tab(children=(VBox(children=(Text(value='', description='Restaurant:', placeholder='Name of restaurant'), Text…"
      ]
     },
     "metadata": {},
     "output_type": "display_data"
    },
    {
     "data": {
      "application/vnd.jupyter.widget-view+json": {
       "model_id": "b3d3e9ca11ec48d8801aabbd651f6781",
       "version_major": 2,
       "version_minor": 0
      },
      "text/plain": [
       "Button(description='Start Search', style=ButtonStyle())"
      ]
     },
     "metadata": {},
     "output_type": "display_data"
    },
    {
     "data": {
      "application/vnd.jupyter.widget-view+json": {
       "model_id": "ca4b798b44924c96a3674b6bfef358d5",
       "version_major": 2,
       "version_minor": 0
      },
      "text/plain": [
       "Output()"
      ]
     },
     "metadata": {},
     "output_type": "display_data"
    }
   ],
   "source": [
    "# UI\n",
    "ui = UserInputInterface()\n",
    "ui.display()"
   ]
  },
  {
   "cell_type": "code",
   "execution_count": 37,
   "metadata": {},
   "outputs": [
    {
     "name": "stdout",
     "output_type": "stream",
     "text": [
      "{'restaurantName': '', 'city': '', 'cuisineType': '', 'priceRange': ('€', '€€€€'), 'regions': [], 'creditCards': [], 'facilities': []}\n"
     ]
    },
    {
     "data": {
      "text/html": [
       "<div>\n",
       "<style scoped>\n",
       "    .dataframe tbody tr th:only-of-type {\n",
       "        vertical-align: middle;\n",
       "    }\n",
       "\n",
       "    .dataframe tbody tr th {\n",
       "        vertical-align: top;\n",
       "    }\n",
       "\n",
       "    .dataframe thead th {\n",
       "        text-align: right;\n",
       "    }\n",
       "</style>\n",
       "<table border=\"1\" class=\"dataframe\">\n",
       "  <thead>\n",
       "    <tr style=\"text-align: right;\">\n",
       "      <th></th>\n",
       "      <th>restaurantName</th>\n",
       "      <th>address</th>\n",
       "      <th>cuisineType</th>\n",
       "      <th>priceRange</th>\n",
       "      <th>website</th>\n",
       "    </tr>\n",
       "  </thead>\n",
       "  <tbody>\n",
       "  </tbody>\n",
       "</table>\n",
       "</div>"
      ],
      "text/plain": [
       "Empty DataFrame\n",
       "Columns: [restaurantName, address, cuisineType, priceRange, website]\n",
       "Index: []"
      ]
     },
     "metadata": {},
     "output_type": "display_data"
    }
   ],
   "source": [
    "#Result\n",
    "user_input = ui.get_values()\n",
    "print(user_input)\n",
    "indices = {\n",
    "    'restaurantName_clean': restaurant_name_index,\n",
    "    'city_clean': city_index,\n",
    "    'cuisineType_clean': cuisine_type_index\n",
    "}\n",
    "results = advanced_search_with_filters(user_input, indices, df_geo)#here needs sobstitute df with df_geo \n",
    "display(results)\n"
   ]
  },
  {
   "cell_type": "markdown",
   "metadata": {},
   "source": [
    "# Algorithmic Question (AQ)\n",
    "A robot is in a warehouse represented by a coordinate grid and needs to collect\n",
    "n packages. It starts at (0,0)\n",
    ", and the i-th package is at (xi,yi). No two packages are at the same coordinates, and (0,0) is empty. The robot can only move up('U') or right ('R'), either from (x,y) to (x+1,y) or (x,y+1). The goal is to collect all\n",
    "n packages with the fewest moves, choosing the lexicographically smallest path if multiple shortest paths exist."
   ]
  },
  {
   "cell_type": "code",
   "execution_count": null,
   "metadata": {},
   "outputs": [],
   "source": [
    "PackageCollector(t):\n",
    "    for each test_case from 1 to t:                                           #O(t * n * log n)\n",
    "        input n  # Number of packages                                           #O(1)\n",
    "        packages = empty list                                                   #O(1)\n",
    "        for i from 1 to n:                                                      #O(2n)\n",
    "            input x, y  # Coordinates of the i-th package                         #O(1)\n",
    "            packages.append (x, y)                                                #O(1)\n",
    "        # Sort packages by x-coordinate, then by y-coordinate\n",
    "        packages.sort(x, y)                                                     #O(n * log n)\n",
    "        curr_x = 0                                                                #O(1)\n",
    "        curr_y = 0                                                                #O(1)\n",
    "        path = empty string                                                       #O(1)\n",
    "        possible = true                                                           #O(1)\n",
    "        for each (x, y) in packages:                                            #O(n)\n",
    "            if x < curr_x or y < curr_y THEN:                                     #O(2)\n",
    "                possible = false                                                    #O(1)\n",
    "                break\t\t\t\t\t\t\t\t\t\t\t\t\t                                      #O(1)\n",
    "            # Calculate the number of moves needed\n",
    "            n_right_moves = x - curr_x\t\t\t\t\t\t\t\t\t\t                        #O(1)\n",
    "            n_up_moves = y - curr_y\t\t\t\t\t\t\t\t\t\t\t                          #O(1)\n",
    "            # Append moves to the path\n",
    "            path.append('R' * num_right_moves)\t\t\t\t\t\t                        #O(1)\n",
    "            path.append ('U' * num_up_moves)\t\t\t\t\t\t                          #O(1)\n",
    "            # Update current position\n",
    "            curr_x = x\t\t\t\t\t\t\t\t\t\t\t\t\t\t                                #O(1)\n",
    "            curr_y = y\t\t\t\t\t\t\t\t\t\t\t\t\t\t                                #O(1)\n",
    "        if  possible then:\t\t\t\t\t\t\t\t\t\t\t\t\t                            #O(1)\n",
    "            print \"YES\"\t\t\t\t\t\t\t\t\t\t\t\t\t                                  #O(1)\n",
    "            print path\t\t\t\t\t\t\t\t\t\t\t\t                                    #O(1)\n",
    "        else:\t\t\t\t\t\t\t\t\t\t\t\t\t\t\t                                      #O(1)\n",
    "            print \"NO\"\t\t\t\t\t\t\t\t\t\t\t\t\t                                  #O(1)"
   ]
  },
  {
   "cell_type": "markdown",
   "metadata": {},
   "source": [
    "PackageCollector takes the number of test cases t as input. For each test case, it reads the number of packages n and initializes an empty list packages to store the coordinates. It reads the coordinates of each package and appends them to the packages list. The packages are sorted based on their x and y coordinates to ensure that the robot can only move right or up. The robot starts at the origin (0, 0) and initializes the current position and path. It iterates through the sorted list of packages, checking if each package is reachable. If a package is unreachable (i.e., if it is below or to the left of the current position), it sets possible to FALSE and breaks out of the loop. If reachable, it calculates the number of right and up moves needed and appends the corresponding characters to the path. After processing all packages, it prints \"YES\" and the path if all packages are reachable; otherwise, it prints \"NO\"."
   ]
  },
  {
   "cell_type": "markdown",
   "metadata": {},
   "source": [
    "### 2. Prove that your algorithm is correct."
   ]
  },
  {
   "cell_type": "markdown",
   "metadata": {},
   "source": [
    "**Poof of correctness:** The robot starts at the origin (0, 0) and can only move right ('R') or up ('U'). Each package has unique coordinates, and the robot must collect all packages in the fewest moves possible. The path must be lexicographically smallest if multiple shortest paths exist. The algorithm sorts the packages by their x-coordinates and then by their y-coordinates. This sorting is crucial because after sorting, the robot can only move to the right or up to reach the next package. If the robot encounters a package with a smaller x-coordinate or a smaller y-coordinate than its current position, it cannot reach that package without moving left or down, which is not allowed. So, the sorted order guarantees that the robot can always reach the next package in the list. the algorithm constructs the path by calculating the number of right and up moves required to reach each package: The number of right moves to reach a package at (x, y) from the current position (x_current, y_current) is given by num_right_moves = x - curr_x. The number of up moves is given by num_up_moves = y - curr_y. Since the robot can only move right or up, the path constructed by appending 'R' for right moves and 'U' for up moves is valid and respects the movement constraints.\n",
    "This ensures that the path is lexicographically smallest because 'R' comes before 'U' in the string. If there are multiple ways to reach a package, the algorithm always chooses the right moves first, thus ensuring the smallest possible string representation of the path.\n"
   ]
  },
  {
   "cell_type": "markdown",
   "metadata": {},
   "source": [
    "### 3. Compute the time complexity of your algorithm in Big O notation. Break down the steps involved in the algorithm, and explain which parts contribute most to the overall time complexity."
   ]
  },
  {
   "cell_type": "markdown",
   "metadata": {},
   "source": [
    "**Overall Time Complexity:** combining the time complexities of each step, we get that the *dominant term* in this analysis is the sorting step, which is ( O(n * log n) ). Therefore, the overall time complexity for each test case is:\n",
    "[ O(n * log n) ]. If we consider ( t ) test cases, the total time complexity becomes [ O(t * n * log n) ]\n",
    "where ( n ) is the maximum number of packages in any test case. Since ( t ) can be at most 10 and ( n ) can be at most 100, the algorithm is efficient and runs within acceptable limits for the given constraints."
   ]
  },
  {
   "cell_type": "markdown",
   "metadata": {},
   "source": [
    "### 4. Ask an LLM tool (such as ChatGPT, Claude AI, Gemini, Perplexity, etc.) to evaluate the time complexity of your code using Big O notation. Is the assessment accurate? If it differs from your previous analysis, which would be correct? Please explain your reasoning."
   ]
  },
  {
   "cell_type": "markdown",
   "metadata": {},
   "source": [
    "**LLM Time Complexity:**\n",
    "\n",
    "To analyze the time complexity of this code, let's break it down step by step:\n",
    "1. Input reading:\n",
    "    * The outer loop runs t times (where t is the input).\n",
    "    * For each iteration, we read n packages (where n is the number of packages in that test case).\n",
    "2. Package processing:\n",
    "    * We sort the packages once per test case, which takes O(n log n) time.\n",
    "3. Path construction:\n",
    "    * We iterate through all packages once, performing constant-time operations for each package.\n",
    "4. Output:\n",
    "    * The output is printed once per test case, regardless of the size of the input.\n",
    "Now, let's analyze the overall complexity:\n",
    "1. Input reading: O(t * n)\n",
    "    * Each input operation is O(1), but we're doing this t times and n times within each iteration.\n",
    "2. Sorting: O(n log n)\n",
    "    * This happens once per test case.\n",
    "3. Path construction: O(n)\n",
    "    * We iterate through all packages once.\n",
    "The dominant factor in the time complexity will be the sorting operation, which occurs once per test case. Therefore, the overall time complexity of this algorithm is O(t * (n log n + n)).\n",
    "Simplifying, we can say that the time complexity is approximately O(t * n log n), as the linear term becomes negligible compared to the logarithmic term for large values of n.\n",
    "Key points to consider:\n",
    "* The sorting operation is crucial here, as it determines the overall time complexity.\n",
    "* If the packages were already sorted, the time complexity would reduce to O(t * n).\n",
    "* The algorithm's performance could be improved by using a more efficient sorting algorithm or by avoiding sorting altogether if the packages can be processed in a different order.\n",
    "\n",
    "LLM gave the same results in terms of time complexity for the algorithm as the algorithm above."
   ]
  },
  {
   "cell_type": "markdown",
   "metadata": {},
   "source": [
    "### 4. Assume now that the robot can also move towards the left or downwards, and consider the greedy approach: from the current location go to the closest package. Notice that now we can always collect all packages. Prove that the greedy algorithm is optimal (i.e., it minimizes the total distance traveled), or provide a counterexample showing that it is not.\n"
   ]
  },
  {
   "cell_type": "markdown",
   "metadata": {},
   "source": [
    "**The greedy algorithm:**\n",
    "1. Start at the origin (0, 0).\n",
    "2. At each step, move to the closest package based on the Manhattan distance (the sum of the absolute differences of the coordinates).\n",
    "3. Repeat until all packages are collected.\n",
    "Proof of Optimality or Counterexample\n",
    "To prove that the greedy algorithm is optimal, we need to show that it always results in the minimum total distance traveled. However, we can provide a counterexample to demonstrate that the greedy approach may not yield the optimal solution.\n",
    "\n",
    "**Counterexample:** To demonstrate that the greedy algorithm is not always optimal, consider the following scenario:\n",
    "\n",
    "       Test Case: (1, 2), (2, 1), (3, 0)\n",
    "\n",
    "Using the greedy algorithm:\n",
    "\n",
    "* Start at (0, 0). The closest package is (1, 2), so move to (1, 2).\n",
    "From (1, 2), the next closest package is (2, 1), so move to (2, 1).\n",
    "Finally, from (2, 1), move to (3, 0).\n",
    "The path taken would be:\n",
    "\n",
    "* Move R to (1, 0) -> U to (1, 1) -> U to (1, 2) -> R to (2, 2) -> L to (2, 1) -> R to (3, 1) -> D to (3, 0).\n",
    "However, the optimal path to collect all packages would be:\n",
    "\n",
    "* Move R to (1, 0) -> U to (1, 1) -> U to (1, 2) -> R to (2, 2) -> R to (3, 2) -> D to (3, 1) -> D to (3, 0).\n",
    "\n",
    "This shows that the greedy approach can lead to a longer path than necessary.\n"
   ]
  },
  {
   "cell_type": "code",
   "execution_count": null,
   "metadata": {},
   "outputs": [],
   "source": []
  },
  {
   "cell_type": "code",
   "execution_count": null,
   "metadata": {},
   "outputs": [],
   "source": []
  },
  {
   "cell_type": "code",
   "execution_count": null,
   "metadata": {},
   "outputs": [],
   "source": []
  },
  {
   "cell_type": "code",
   "execution_count": null,
   "metadata": {},
   "outputs": [],
   "source": []
  },
  {
   "cell_type": "code",
   "execution_count": null,
   "metadata": {},
   "outputs": [],
   "source": []
  },
  {
   "cell_type": "code",
   "execution_count": null,
   "metadata": {},
   "outputs": [],
   "source": []
  },
  {
   "cell_type": "code",
   "execution_count": null,
   "metadata": {},
   "outputs": [],
   "source": []
  }
 ],
 "metadata": {
  "kernelspec": {
   "display_name": "base",
   "language": "python",
   "name": "python3"
  },
  "language_info": {
   "codemirror_mode": {
    "name": "ipython",
    "version": 3
   },
   "file_extension": ".py",
   "mimetype": "text/x-python",
   "name": "python",
   "nbconvert_exporter": "python",
   "pygments_lexer": "ipython3",
   "version": "3.8.5"
  }
 },
 "nbformat": 4,
 "nbformat_minor": 2
}
